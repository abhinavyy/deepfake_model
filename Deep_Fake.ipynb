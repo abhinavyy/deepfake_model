{
  "nbformat": 4,
  "nbformat_minor": 0,
  "metadata": {
    "colab": {
      "provenance": [],
      "gpuType": "T4"
    },
    "kernelspec": {
      "name": "python3",
      "display_name": "Python 3"
    },
    "language_info": {
      "name": "python"
    },
    "accelerator": "GPU"
  },
  "cells": [
    {
      "cell_type": "code",
      "execution_count": 1,
      "metadata": {
        "id": "eUhnD17igrIl"
      },
      "outputs": [],
      "source": [
        "!pip install -q kaggle"
      ]
    },
    {
      "cell_type": "code",
      "source": [
        "from google.colab import files\n",
        "files.upload()\n"
      ],
      "metadata": {
        "colab": {
          "base_uri": "https://localhost:8080/",
          "height": 1000
        },
        "id": "6stmnx7EhEZ0",
        "outputId": "c5594674-e6d8-4b54-ff1b-62f0be9f120b"
      },
      "execution_count": null,
      "outputs": [
        {
          "output_type": "display_data",
          "data": {
            "text/plain": [
              "<IPython.core.display.HTML object>"
            ],
            "text/html": [
              "\n",
              "     <input type=\"file\" id=\"files-f9d724dc-832b-499f-98b5-5d67e825ec95\" name=\"files[]\" multiple disabled\n",
              "        style=\"border:none\" />\n",
              "     <output id=\"result-f9d724dc-832b-499f-98b5-5d67e825ec95\">\n",
              "      Upload widget is only available when the cell has been executed in the\n",
              "      current browser session. Please rerun this cell to enable.\n",
              "      </output>\n",
              "      <script>// Copyright 2017 Google LLC\n",
              "//\n",
              "// Licensed under the Apache License, Version 2.0 (the \"License\");\n",
              "// you may not use this file except in compliance with the License.\n",
              "// You may obtain a copy of the License at\n",
              "//\n",
              "//      http://www.apache.org/licenses/LICENSE-2.0\n",
              "//\n",
              "// Unless required by applicable law or agreed to in writing, software\n",
              "// distributed under the License is distributed on an \"AS IS\" BASIS,\n",
              "// WITHOUT WARRANTIES OR CONDITIONS OF ANY KIND, either express or implied.\n",
              "// See the License for the specific language governing permissions and\n",
              "// limitations under the License.\n",
              "\n",
              "/**\n",
              " * @fileoverview Helpers for google.colab Python module.\n",
              " */\n",
              "(function(scope) {\n",
              "function span(text, styleAttributes = {}) {\n",
              "  const element = document.createElement('span');\n",
              "  element.textContent = text;\n",
              "  for (const key of Object.keys(styleAttributes)) {\n",
              "    element.style[key] = styleAttributes[key];\n",
              "  }\n",
              "  return element;\n",
              "}\n",
              "\n",
              "// Max number of bytes which will be uploaded at a time.\n",
              "const MAX_PAYLOAD_SIZE = 100 * 1024;\n",
              "\n",
              "function _uploadFiles(inputId, outputId) {\n",
              "  const steps = uploadFilesStep(inputId, outputId);\n",
              "  const outputElement = document.getElementById(outputId);\n",
              "  // Cache steps on the outputElement to make it available for the next call\n",
              "  // to uploadFilesContinue from Python.\n",
              "  outputElement.steps = steps;\n",
              "\n",
              "  return _uploadFilesContinue(outputId);\n",
              "}\n",
              "\n",
              "// This is roughly an async generator (not supported in the browser yet),\n",
              "// where there are multiple asynchronous steps and the Python side is going\n",
              "// to poll for completion of each step.\n",
              "// This uses a Promise to block the python side on completion of each step,\n",
              "// then passes the result of the previous step as the input to the next step.\n",
              "function _uploadFilesContinue(outputId) {\n",
              "  const outputElement = document.getElementById(outputId);\n",
              "  const steps = outputElement.steps;\n",
              "\n",
              "  const next = steps.next(outputElement.lastPromiseValue);\n",
              "  return Promise.resolve(next.value.promise).then((value) => {\n",
              "    // Cache the last promise value to make it available to the next\n",
              "    // step of the generator.\n",
              "    outputElement.lastPromiseValue = value;\n",
              "    return next.value.response;\n",
              "  });\n",
              "}\n",
              "\n",
              "/**\n",
              " * Generator function which is called between each async step of the upload\n",
              " * process.\n",
              " * @param {string} inputId Element ID of the input file picker element.\n",
              " * @param {string} outputId Element ID of the output display.\n",
              " * @return {!Iterable<!Object>} Iterable of next steps.\n",
              " */\n",
              "function* uploadFilesStep(inputId, outputId) {\n",
              "  const inputElement = document.getElementById(inputId);\n",
              "  inputElement.disabled = false;\n",
              "\n",
              "  const outputElement = document.getElementById(outputId);\n",
              "  outputElement.innerHTML = '';\n",
              "\n",
              "  const pickedPromise = new Promise((resolve) => {\n",
              "    inputElement.addEventListener('change', (e) => {\n",
              "      resolve(e.target.files);\n",
              "    });\n",
              "  });\n",
              "\n",
              "  const cancel = document.createElement('button');\n",
              "  inputElement.parentElement.appendChild(cancel);\n",
              "  cancel.textContent = 'Cancel upload';\n",
              "  const cancelPromise = new Promise((resolve) => {\n",
              "    cancel.onclick = () => {\n",
              "      resolve(null);\n",
              "    };\n",
              "  });\n",
              "\n",
              "  // Wait for the user to pick the files.\n",
              "  const files = yield {\n",
              "    promise: Promise.race([pickedPromise, cancelPromise]),\n",
              "    response: {\n",
              "      action: 'starting',\n",
              "    }\n",
              "  };\n",
              "\n",
              "  cancel.remove();\n",
              "\n",
              "  // Disable the input element since further picks are not allowed.\n",
              "  inputElement.disabled = true;\n",
              "\n",
              "  if (!files) {\n",
              "    return {\n",
              "      response: {\n",
              "        action: 'complete',\n",
              "      }\n",
              "    };\n",
              "  }\n",
              "\n",
              "  for (const file of files) {\n",
              "    const li = document.createElement('li');\n",
              "    li.append(span(file.name, {fontWeight: 'bold'}));\n",
              "    li.append(span(\n",
              "        `(${file.type || 'n/a'}) - ${file.size} bytes, ` +\n",
              "        `last modified: ${\n",
              "            file.lastModifiedDate ? file.lastModifiedDate.toLocaleDateString() :\n",
              "                                    'n/a'} - `));\n",
              "    const percent = span('0% done');\n",
              "    li.appendChild(percent);\n",
              "\n",
              "    outputElement.appendChild(li);\n",
              "\n",
              "    const fileDataPromise = new Promise((resolve) => {\n",
              "      const reader = new FileReader();\n",
              "      reader.onload = (e) => {\n",
              "        resolve(e.target.result);\n",
              "      };\n",
              "      reader.readAsArrayBuffer(file);\n",
              "    });\n",
              "    // Wait for the data to be ready.\n",
              "    let fileData = yield {\n",
              "      promise: fileDataPromise,\n",
              "      response: {\n",
              "        action: 'continue',\n",
              "      }\n",
              "    };\n",
              "\n",
              "    // Use a chunked sending to avoid message size limits. See b/62115660.\n",
              "    let position = 0;\n",
              "    do {\n",
              "      const length = Math.min(fileData.byteLength - position, MAX_PAYLOAD_SIZE);\n",
              "      const chunk = new Uint8Array(fileData, position, length);\n",
              "      position += length;\n",
              "\n",
              "      const base64 = btoa(String.fromCharCode.apply(null, chunk));\n",
              "      yield {\n",
              "        response: {\n",
              "          action: 'append',\n",
              "          file: file.name,\n",
              "          data: base64,\n",
              "        },\n",
              "      };\n",
              "\n",
              "      let percentDone = fileData.byteLength === 0 ?\n",
              "          100 :\n",
              "          Math.round((position / fileData.byteLength) * 100);\n",
              "      percent.textContent = `${percentDone}% done`;\n",
              "\n",
              "    } while (position < fileData.byteLength);\n",
              "  }\n",
              "\n",
              "  // All done.\n",
              "  yield {\n",
              "    response: {\n",
              "      action: 'complete',\n",
              "    }\n",
              "  };\n",
              "}\n",
              "\n",
              "scope.google = scope.google || {};\n",
              "scope.google.colab = scope.google.colab || {};\n",
              "scope.google.colab._files = {\n",
              "  _uploadFiles,\n",
              "  _uploadFilesContinue,\n",
              "};\n",
              "})(self);\n",
              "</script> "
            ]
          },
          "metadata": {}
        },
        {
          "output_type": "stream",
          "name": "stdout",
          "text": [
            "Saving kaggle.json to kaggle.json\n",
            "Saving metadata.json to metadata.json\n"
          ]
        },
        {
          "output_type": "execute_result",
          "data": {
            "text/plain": [
              "{'kaggle.json': b'{\"username\":\"aamiransari072\",\"key\":\"b413cdaf2ffe58b544094ed73febbabd\"}',\n",
              " 'metadata.json': b'{\"aagfhgtpmv.mp4\":{\"label\":\"FAKE\",\"split\":\"train\",\"original\":\"vudstovrck.mp4\"},\"aapnvogymq.mp4\":{\"label\":\"FAKE\",\"split\":\"train\",\"original\":\"jdubbvfswz.mp4\"},\"abarnvbtwb.mp4\":{\"label\":\"REAL\",\"split\":\"train\",\"original\":null},\"abofeumbvv.mp4\":{\"label\":\"FAKE\",\"split\":\"train\",\"original\":\"atvmxvwyns.mp4\"},\"abqwwspghj.mp4\":{\"label\":\"FAKE\",\"split\":\"train\",\"original\":\"qzimuostzz.mp4\"},\"acifjvzvpm.mp4\":{\"label\":\"FAKE\",\"split\":\"train\",\"original\":\"kbvibjhfzo.mp4\"},\"acqfdwsrhi.mp4\":{\"label\":\"FAKE\",\"split\":\"train\",\"original\":\"ccfoszqabv.mp4\"},\"acxnxvbsxk.mp4\":{\"label\":\"FAKE\",\"split\":\"train\",\"original\":\"fjlyaizcwc.mp4\"},\"acxwigylke.mp4\":{\"label\":\"FAKE\",\"split\":\"train\",\"original\":\"ffcwhpnpuw.mp4\"},\"aczrgyricp.mp4\":{\"label\":\"FAKE\",\"split\":\"train\",\"original\":\"slwkmefgde.mp4\"},\"adhsbajydo.mp4\":{\"label\":\"FAKE\",\"split\":\"train\",\"original\":\"fysyrqfguw.mp4\"},\"adohikbdaz.mp4\":{\"label\":\"FAKE\",\"split\":\"train\",\"original\":\"qjlhemtkxk.mp4\"},\"adylbeequz.mp4\":{\"label\":\"FAKE\",\"split\":\"train\",\"original\":\"dlpoieqvfb.mp4\"},\"aelfnikyqj.mp4\":{\"label\":\"REAL\",\"split\":\"train\",\"original\":null},\"aelzhcnwgf.mp4\":{\"label\":\"FAKE\",\"split\":\"train\",\"original\":\"qzimuostzz.mp4\"},\"aettqgevhz.mp4\":{\"label\":\"FAKE\",\"split\":\"train\",\"original\":\"proiippuup.mp4\"},\"aevrfsexku.mp4\":{\"label\":\"FAKE\",\"split\":\"train\",\"original\":\"gxembgiarp.mp4\"},\"afoovlsmtx.mp4\":{\"label\":\"REAL\",\"split\":\"train\",\"original\":null},\"agdkmztvby.mp4\":{\"label\":\"FAKE\",\"split\":\"train\",\"original\":\"iufotyxgzb.mp4\"},\"agqphdxmwt.mp4\":{\"label\":\"FAKE\",\"split\":\"train\",\"original\":\"aytzyidmgs.mp4\"},\"agrmhtjdlk.mp4\":{\"label\":\"REAL\",\"split\":\"train\",\"original\":null},\"ahbweevwpv.mp4\":{\"label\":\"FAKE\",\"split\":\"train\",\"original\":\"dkuayagnmc.mp4\"},\"ahdbuwqxit.mp4\":{\"label\":\"FAKE\",\"split\":\"train\",\"original\":\"jomvcqqars.mp4\"},\"ahfazfbntc.mp4\":{\"label\":\"FAKE\",\"split\":\"train\",\"original\":\"sunqwnmlkx.mp4\"},\"ahqqqilsxt.mp4\":{\"label\":\"REAL\",\"split\":\"train\",\"original\":null},\"aipfdnwpoo.mp4\":{\"label\":\"FAKE\",\"split\":\"train\",\"original\":\"ygdgwyqyut.mp4\"},\"ajqslcypsw.mp4\":{\"label\":\"REAL\",\"split\":\"train\",\"original\":null},\"ajwpjhrbcv.mp4\":{\"label\":\"FAKE\",\"split\":\"train\",\"original\":\"bzythlfnhq.mp4\"},\"aklqzsddfl.mp4\":{\"label\":\"FAKE\",\"split\":\"train\",\"original\":\"lyvlnqduqg.mp4\"},\"aknbdpmgua.mp4\":{\"label\":\"FAKE\",\"split\":\"train\",\"original\":\"yxyhvdlrgk.mp4\"},\"aknmpoonls.mp4\":{\"label\":\"FAKE\",\"split\":\"train\",\"original\":\"swedbyuehz.mp4\"},\"akvmwkdyuv.mp4\":{\"label\":\"FAKE\",\"split\":\"train\",\"original\":\"xlbnmndmku.mp4\"},\"akxoopqjqz.mp4\":{\"label\":\"FAKE\",\"split\":\"train\",\"original\":\"meawmsgiti.mp4\"},\"akzbnazxtz.mp4\":{\"label\":\"FAKE\",\"split\":\"train\",\"original\":\"ppdpgwyjgm.mp4\"},\"aladcziidp.mp4\":{\"label\":\"FAKE\",\"split\":\"train\",\"original\":\"fewcljwqkr.mp4\"},\"alaijyygdv.mp4\":{\"label\":\"FAKE\",\"split\":\"train\",\"original\":\"cppdvdejkc.mp4\"},\"alninxcyhg.mp4\":{\"label\":\"FAKE\",\"split\":\"train\",\"original\":\"tqhbgzfwsf.mp4\"},\"altziddtxi.mp4\":{\"label\":\"FAKE\",\"split\":\"train\",\"original\":\"meawmsgiti.mp4\"},\"alvgwypubw.mp4\":{\"label\":\"FAKE\",\"split\":\"train\",\"original\":\"vcxckqbaya.mp4\"},\"amaivqofda.mp4\":{\"label\":\"FAKE\",\"split\":\"train\",\"original\":\"xobhsemxmv.mp4\"},\"amowujxmzc.mp4\":{\"label\":\"FAKE\",\"split\":\"train\",\"original\":\"xwcggrygwl.mp4\"},\"andaxzscny.mp4\":{\"label\":\"FAKE\",\"split\":\"train\",\"original\":\"fysyrqfguw.mp4\"},\"aneclqfpbt.mp4\":{\"label\":\"FAKE\",\"split\":\"train\",\"original\":\"xxsxktyvzt.mp4\"},\"anpuvshzoo.mp4\":{\"label\":\"REAL\",\"split\":\"train\",\"original\":null},\"aorjvbyxhw.mp4\":{\"label\":\"FAKE\",\"split\":\"train\",\"original\":\"bulkxhhknf.mp4\"},\"apatcsqejh.mp4\":{\"label\":\"FAKE\",\"split\":\"train\",\"original\":\"edyncaijwx.mp4\"},\"apgjqzkoma.mp4\":{\"label\":\"FAKE\",\"split\":\"train\",\"original\":\"jkddywriuf.mp4\"},\"apogckdfrz.mp4\":{\"label\":\"FAKE\",\"split\":\"train\",\"original\":\"uonshkejav.mp4\"},\"aqpnvjhuzw.mp4\":{\"label\":\"FAKE\",\"split\":\"train\",\"original\":\"xngpzquyhs.mp4\"},\"arkroixhey.mp4\":{\"label\":\"FAKE\",\"split\":\"train\",\"original\":\"fjlyaizcwc.mp4\"},\"arlmiizoob.mp4\":{\"label\":\"FAKE\",\"split\":\"train\",\"original\":\"meawmsgiti.mp4\"},\"arrhsnjqku.mp4\":{\"label\":\"FAKE\",\"split\":\"train\",\"original\":\"inkqxytzyu.mp4\"},\"asaxgevnnp.mp4\":{\"label\":\"REAL\",\"split\":\"train\",\"original\":null},\"asdpeebotb.mp4\":{\"label\":\"FAKE\",\"split\":\"train\",\"original\":\"znjupdqnwo.mp4\"},\"aslsvlvpth.mp4\":{\"label\":\"FAKE\",\"split\":\"train\",\"original\":\"jepguaulgf.mp4\"},\"asmpfjfzif.mp4\":{\"label\":\"FAKE\",\"split\":\"train\",\"original\":\"dzyuwjkjui.mp4\"},\"asvcrfdpnq.mp4\":{\"label\":\"FAKE\",\"split\":\"train\",\"original\":\"upgerjvcjb.mp4\"},\"atkdltyyen.mp4\":{\"label\":\"REAL\",\"split\":\"train\",\"original\":null},\"atvmxvwyns.mp4\":{\"label\":\"REAL\",\"split\":\"train\",\"original\":null},\"atxvxouljq.mp4\":{\"label\":\"FAKE\",\"split\":\"train\",\"original\":\"wwqiuiwdbz.mp4\"},\"atyntldecu.mp4\":{\"label\":\"FAKE\",\"split\":\"train\",\"original\":\"mfzqxktxud.mp4\"},\"atzdznmder.mp4\":{\"label\":\"FAKE\",\"split\":\"train\",\"original\":\"qedsgieuqn.mp4\"},\"aufmsmnoye.mp4\":{\"label\":\"FAKE\",\"split\":\"train\",\"original\":\"ppdpgwyjgm.mp4\"},\"augtsuxpzc.mp4\":{\"label\":\"FAKE\",\"split\":\"train\",\"original\":\"ifbdbogiqn.mp4\"},\"avfitoutyn.mp4\":{\"label\":\"FAKE\",\"split\":\"train\",\"original\":\"mfzqxktxud.mp4\"},\"avgiuextiz.mp4\":{\"label\":\"FAKE\",\"split\":\"train\",\"original\":\"hyhjfdxqxy.mp4\"},\"avibnnhwhp.mp4\":{\"label\":\"FAKE\",\"split\":\"train\",\"original\":\"jdubbvfswz.mp4\"},\"avmjormvsx.mp4\":{\"label\":\"REAL\",\"split\":\"train\",\"original\":null},\"avnqydkqjj.mp4\":{\"label\":\"FAKE\",\"split\":\"train\",\"original\":\"efwfxwwlbw.mp4\"},\"avssvvsdhz.mp4\":{\"label\":\"FAKE\",\"split\":\"train\",\"original\":\"gktjowiuqe.mp4\"},\"avtycwsgyb.mp4\":{\"label\":\"FAKE\",\"split\":\"train\",\"original\":\"qzklcjjxdq.mp4\"},\"avvdgsennp.mp4\":{\"label\":\"FAKE\",\"split\":\"train\",\"original\":\"gbqrgajyca.mp4\"},\"avywawptfc.mp4\":{\"label\":\"FAKE\",\"split\":\"train\",\"original\":\"rrcsuwgpnd.mp4\"},\"awhmfnnjih.mp4\":{\"label\":\"FAKE\",\"split\":\"train\",\"original\":\"xclqbefnvc.mp4\"},\"awnwkrqibf.mp4\":{\"label\":\"FAKE\",\"split\":\"train\",\"original\":\"cprhtltsjp.mp4\"},\"awukslzjra.mp4\":{\"label\":\"FAKE\",\"split\":\"train\",\"original\":\"ujzwwfkeia.mp4\"},\"axczxisdtb.mp4\":{\"label\":\"FAKE\",\"split\":\"train\",\"original\":\"meawmsgiti.mp4\"},\"axntxmycwd.mp4\":{\"label\":\"REAL\",\"split\":\"train\",\"original\":null},\"axoygtekut.mp4\":{\"label\":\"FAKE\",\"split\":\"train\",\"original\":\"topyiohccg.mp4\"},\"axwgcsyphv.mp4\":{\"label\":\"FAKE\",\"split\":\"train\",\"original\":\"mfnowqfdwl.mp4\"},\"axwovszumc.mp4\":{\"label\":\"FAKE\",\"split\":\"train\",\"original\":\"rvoudrbyac.mp4\"},\"aybgughjxh.mp4\":{\"label\":\"REAL\",\"split\":\"train\",\"original\":null},\"aybumesmpk.mp4\":{\"label\":\"REAL\",\"split\":\"train\",\"original\":null},\"ayqvfdhslr.mp4\":{\"label\":\"FAKE\",\"split\":\"train\",\"original\":\"xxrzzncksa.mp4\"},\"aytzyidmgs.mp4\":{\"label\":\"REAL\",\"split\":\"train\",\"original\":null},\"azpuxunqyo.mp4\":{\"label\":\"FAKE\",\"split\":\"train\",\"original\":\"jjyfvzxwwx.mp4\"},\"azsmewqghg.mp4\":{\"label\":\"FAKE\",\"split\":\"train\",\"original\":\"djxdyjopjd.mp4\"},\"bahdpoesir.mp4\":{\"label\":\"FAKE\",\"split\":\"train\",\"original\":\"xnhcreiyqg.mp4\"},\"bbhpvrmbse.mp4\":{\"label\":\"FAKE\",\"split\":\"train\",\"original\":\"imzqmbfugn.mp4\"},\"bbhtdfuqxq.mp4\":{\"label\":\"FAKE\",\"split\":\"train\",\"original\":\"cpjxareypw.mp4\"},\"bbvgxeczei.mp4\":{\"label\":\"FAKE\",\"split\":\"train\",\"original\":\"fysyrqfguw.mp4\"},\"bchnbulevv.mp4\":{\"label\":\"FAKE\",\"split\":\"train\",\"original\":\"iyefnuagav.mp4\"},\"bctvsmddgq.mp4\":{\"label\":\"FAKE\",\"split\":\"train\",\"original\":\"ybjrqnqnno.mp4\"},\"bdbhekrrwo.mp4\":{\"label\":\"FAKE\",\"split\":\"train\",\"original\":\"qtnjyomzwo.mp4\"},\"bddjdhzfze.mp4\":{\"label\":\"REAL\",\"split\":\"train\",\"original\":null},\"bdgipnyobr.mp4\":{\"label\":\"FAKE\",\"split\":\"train\",\"original\":\"keecvpbncd.mp4\"},\"bdnaqemxmr.mp4\":{\"label\":\"REAL\",\"split\":\"train\",\"original\":null},\"bdxuhamuqx.mp4\":{\"label\":\"FAKE\",\"split\":\"train\",\"original\":\"fecysfujzk.mp4\"},\"beboztfcme.mp4\":{\"label\":\"REAL\",\"split\":\"train\",\"original\":null},\"bejhvclboh.mp4\":{\"label\":\"REAL\",\"split\":\"train\",\"original\":null},\"benmsfzfaz.mp4\":{\"label\":\"FAKE\",\"split\":\"train\",\"original\":\"kysxawkest.mp4\"},\"beyebyhrph.mp4\":{\"label\":\"REAL\",\"split\":\"train\",\"original\":null},\"bffwsjxghk.mp4\":{\"label\":\"REAL\",\"split\":\"train\",\"original\":null},\"bgaogsjehq.mp4\":{\"label\":\"FAKE\",\"split\":\"train\",\"original\":\"xzvrgckqkz.mp4\"},\"bggsurpgpr.mp4\":{\"label\":\"FAKE\",\"split\":\"train\",\"original\":\"gxembgiarp.mp4\"},\"bghphrsfxf.mp4\":{\"label\":\"FAKE\",\"split\":\"train\",\"original\":\"sgjnvxvcpu.mp4\"},\"bgmlwsoamc.mp4\":{\"label\":\"FAKE\",\"split\":\"train\",\"original\":\"woshnzbxmc.mp4\"},\"bguwlyazau.mp4\":{\"label\":\"FAKE\",\"split\":\"train\",\"original\":\"znpdbbsfvj.mp4\"},\"bgvhtpzknn.mp4\":{\"label\":\"REAL\",\"split\":\"train\",\"original\":null},\"bgwmmujlmc.mp4\":{\"label\":\"REAL\",\"split\":\"train\",\"original\":null},\"bhaaboftbc.mp4\":{\"label\":\"FAKE\",\"split\":\"train\",\"original\":\"rlvgtsjyer.mp4\"},\"bhbdugnurr.mp4\":{\"label\":\"FAKE\",\"split\":\"train\",\"original\":\"vcxckqbaya.mp4\"},\"bhpwpydzpo.mp4\":{\"label\":\"FAKE\",\"split\":\"train\",\"original\":\"yfsnwkbafm.mp4\"},\"bhsluedavd.mp4\":{\"label\":\"FAKE\",\"split\":\"train\",\"original\":\"kydlpqfrvv.mp4\"},\"bilnggbxgu.mp4\":{\"label\":\"REAL\",\"split\":\"train\",\"original\":null},\"bjjbwsqjir.mp4\":{\"label\":\"FAKE\",\"split\":\"train\",\"original\":\"tdohqkzvbk.mp4\"},\"bjkmjilrxp.mp4\":{\"label\":\"FAKE\",\"split\":\"train\",\"original\":\"yfsnwkbafm.mp4\"},\"bjsmaqefoi.mp4\":{\"label\":\"FAKE\",\"split\":\"train\",\"original\":\"mfpgdgsaxg.mp4\"},\"bkmdzhfzfh.mp4\":{\"label\":\"FAKE\",\"split\":\"train\",\"original\":\"hyuipchisa.mp4\"},\"bkvetcojbt.mp4\":{\"label\":\"FAKE\",\"split\":\"train\",\"original\":\"ybjrqnqnno.mp4\"},\"bkwxhglwct.mp4\":{\"label\":\"FAKE\",\"split\":\"train\",\"original\":\"gjypopglvi.mp4\"},\"blpchvmhxx.mp4\":{\"label\":\"FAKE\",\"split\":\"train\",\"original\":\"xqnykluhws.mp4\"},\"blzydqdfem.mp4\":{\"label\":\"FAKE\",\"split\":\"train\",\"original\":\"dbtbbhakdv.mp4\"},\"bmbbkwmxqj.mp4\":{\"label\":\"FAKE\",\"split\":\"train\",\"original\":\"rrcsuwgpnd.mp4\"},\"bmehkyanbj.mp4\":{\"label\":\"FAKE\",\"split\":\"train\",\"original\":\"ptokilxwcx.mp4\"},\"bmhvktyiwp.mp4\":{\"label\":\"FAKE\",\"split\":\"train\",\"original\":\"gneufaypol.mp4\"},\"bmioepcpsx.mp4\":{\"label\":\"FAKE\",\"split\":\"train\",\"original\":\"vmospzljws.mp4\"},\"bmjmjmbglm.mp4\":{\"label\":\"FAKE\",\"split\":\"train\",\"original\":\"mmhqllmlew.mp4\"},\"bmjzrlszhi.mp4\":{\"label\":\"REAL\",\"split\":\"train\",\"original\":null},\"bnbuonyoje.mp4\":{\"label\":\"FAKE\",\"split\":\"train\",\"original\":\"fntskqfxxf.mp4\"},\"bndybcqhfr.mp4\":{\"label\":\"FAKE\",\"split\":\"train\",\"original\":\"xnfwdpptym.mp4\"},\"bnjcdrfuov.mp4\":{\"label\":\"FAKE\",\"split\":\"train\",\"original\":\"ellavthztb.mp4\"},\"bntlodcfeg.mp4\":{\"label\":\"FAKE\",\"split\":\"train\",\"original\":\"ytufbmkdlq.mp4\"},\"bofqajtwve.mp4\":{\"label\":\"FAKE\",\"split\":\"train\",\"original\":\"dbtbbhakdv.mp4\"},\"boovltmuwi.mp4\":{\"label\":\"FAKE\",\"split\":\"train\",\"original\":\"sfujxhuyje.mp4\"},\"bopqhhalml.mp4\":{\"label\":\"FAKE\",\"split\":\"train\",\"original\":\"oesxbvktem.mp4\"},\"bourlmzsio.mp4\":{\"label\":\"FAKE\",\"split\":\"train\",\"original\":\"bxzakyopjf.mp4\"},\"bpapbctoao.mp4\":{\"label\":\"REAL\",\"split\":\"train\",\"original\":null},\"bpwzipqtxf.mp4\":{\"label\":\"FAKE\",\"split\":\"train\",\"original\":\"lmlyvmfbbe.mp4\"},\"bpxckdzddv.mp4\":{\"label\":\"FAKE\",\"split\":\"train\",\"original\":\"cizlkenljw.mp4\"},\"bqdjzqhcft.mp4\":{\"label\":\"FAKE\",\"split\":\"train\",\"original\":\"ytufbmkdlq.mp4\"},\"bqeiblbxtl.mp4\":{\"label\":\"FAKE\",\"split\":\"train\",\"original\":\"iklzfeueid.mp4\"},\"bqhtpqmmqp.mp4\":{\"label\":\"FAKE\",\"split\":\"train\",\"original\":\"meawmsgiti.mp4\"},\"bqkdbcqjvb.mp4\":{\"label\":\"FAKE\",\"split\":\"train\",\"original\":\"atvmxvwyns.mp4\"},\"bqnymlsayl.mp4\":{\"label\":\"FAKE\",\"split\":\"train\",\"original\":\"xagsvjctmp.mp4\"},\"bqqpbzjgup.mp4\":{\"label\":\"FAKE\",\"split\":\"train\",\"original\":\"djxdyjopjd.mp4\"},\"bqtuuwzdtr.mp4\":{\"label\":\"FAKE\",\"split\":\"train\",\"original\":\"yagllixjvh.mp4\"},\"brhalypwoo.mp4\":{\"label\":\"FAKE\",\"split\":\"train\",\"original\":\"uuxqylnzls.mp4\"},\"brvqtabyxj.mp4\":{\"label\":\"FAKE\",\"split\":\"train\",\"original\":\"ywvlvpvroj.mp4\"},\"brwrlczjvi.mp4\":{\"label\":\"REAL\",\"split\":\"train\",\"original\":null},\"bseamdrpbj.mp4\":{\"label\":\"FAKE\",\"split\":\"train\",\"original\":\"fdcttsvjwf.mp4\"},\"bsfmwclnqy.mp4\":{\"label\":\"FAKE\",\"split\":\"train\",\"original\":\"ubplsigbvj.mp4\"},\"bsqgziaylx.mp4\":{\"label\":\"FAKE\",\"split\":\"train\",\"original\":\"brwrlczjvi.mp4\"},\"btiysiskpf.mp4\":{\"label\":\"FAKE\",\"split\":\"train\",\"original\":\"gxhcuxulhi.mp4\"},\"btjlfpzbdu.mp4\":{\"label\":\"FAKE\",\"split\":\"train\",\"original\":\"drcyabprvt.mp4\"},\"btjwbtsgln.mp4\":{\"label\":\"FAKE\",\"split\":\"train\",\"original\":\"xwcggrygwl.mp4\"},\"btmsngnqhv.mp4\":{\"label\":\"FAKE\",\"split\":\"train\",\"original\":\"crezycjqyk.mp4\"},\"btohlidmru.mp4\":{\"label\":\"FAKE\",\"split\":\"train\",\"original\":\"cyxlcuyznd.mp4\"},\"btugrnoton.mp4\":{\"label\":\"FAKE\",\"split\":\"train\",\"original\":\"kgbkktcjxf.mp4\"},\"btunxncpjh.mp4\":{\"label\":\"FAKE\",\"split\":\"train\",\"original\":\"mgowkzsbyx.mp4\"},\"btxlttbpkj.mp4\":{\"label\":\"FAKE\",\"split\":\"train\",\"original\":\"fhghkqdkhe.mp4\"},\"bulkxhhknf.mp4\":{\"label\":\"REAL\",\"split\":\"train\",\"original\":null},\"bvgwelbeof.mp4\":{\"label\":\"FAKE\",\"split\":\"train\",\"original\":\"mmhqllmlew.mp4\"},\"bvzjkezkms.mp4\":{\"label\":\"FAKE\",\"split\":\"train\",\"original\":\"ekcrtigpab.mp4\"},\"bweezhfpzp.mp4\":{\"label\":\"FAKE\",\"split\":\"train\",\"original\":\"ywvlvpvroj.mp4\"},\"bwhlgysghg.mp4\":{\"label\":\"REAL\",\"split\":\"train\",\"original\":null},\"bwipwzzxxu.mp4\":{\"label\":\"REAL\",\"split\":\"train\",\"original\":null},\"bwuwstvsbw.mp4\":{\"label\":\"FAKE\",\"split\":\"train\",\"original\":\"xzvrgckqkz.mp4\"},\"bxzakyopjf.mp4\":{\"label\":\"REAL\",\"split\":\"train\",\"original\":null},\"bydaidkpdp.mp4\":{\"label\":\"FAKE\",\"split\":\"train\",\"original\":\"gktjowiuqe.mp4\"},\"byfenovjnf.mp4\":{\"label\":\"FAKE\",\"split\":\"train\",\"original\":\"gipbyjfxfp.mp4\"},\"byijojkdba.mp4\":{\"label\":\"FAKE\",\"split\":\"train\",\"original\":\"liniegczcx.mp4\"},\"byofowlkki.mp4\":{\"label\":\"FAKE\",\"split\":\"train\",\"original\":\"ifjktxxiln.mp4\"},\"byqzyxifza.mp4\":{\"label\":\"FAKE\",\"split\":\"train\",\"original\":\"kgbkktcjxf.mp4\"},\"byunigvnay.mp4\":{\"label\":\"FAKE\",\"split\":\"train\",\"original\":\"nvpluswotp.mp4\"},\"byyqectxqa.mp4\":{\"label\":\"FAKE\",\"split\":\"train\",\"original\":\"fdcttsvjwf.mp4\"},\"bzmdrafeex.mp4\":{\"label\":\"FAKE\",\"split\":\"train\",\"original\":\"sqwvfgwdxr.mp4\"},\"bzythlfnhq.mp4\":{\"label\":\"REAL\",\"split\":\"train\",\"original\":null},\"caifxvsozs.mp4\":{\"label\":\"REAL\",\"split\":\"train\",\"original\":null},\"caqbrkogkb.mp4\":{\"label\":\"FAKE\",\"split\":\"train\",\"original\":\"vgqotmftcr.mp4\"},\"cbbibzcoih.mp4\":{\"label\":\"FAKE\",\"split\":\"train\",\"original\":\"lietldeotq.mp4\"},\"cbltdtxglo.mp4\":{\"label\":\"FAKE\",\"split\":\"train\",\"original\":\"svcnlasmeh.mp4\"},\"ccfoszqabv.mp4\":{\"label\":\"REAL\",\"split\":\"train\",\"original\":null},\"ccmonzqfrz.mp4\":{\"label\":\"FAKE\",\"split\":\"train\",\"original\":\"gxhcuxulhi.mp4\"},\"cdaxixbosp.mp4\":{\"label\":\"FAKE\",\"split\":\"train\",\"original\":\"itzmdwutdu.mp4\"},\"cdbsbdymzd.mp4\":{\"label\":\"FAKE\",\"split\":\"train\",\"original\":\"xngpzquyhs.mp4\"},\"cdphtzqrvp.mp4\":{\"label\":\"FAKE\",\"split\":\"train\",\"original\":\"ehtdtkmmli.mp4\"},\"cdyakrxkia.mp4\":{\"label\":\"FAKE\",\"split\":\"train\",\"original\":\"atvmxvwyns.mp4\"},\"cepxysienc.mp4\":{\"label\":\"FAKE\",\"split\":\"train\",\"original\":\"euqpvnyxrb.mp4\"},\"cettndmvzl.mp4\":{\"label\":\"FAKE\",\"split\":\"train\",\"original\":\"kysxawkest.mp4\"},\"ceymbecxnj.mp4\":{\"label\":\"FAKE\",\"split\":\"train\",\"original\":\"gjypopglvi.mp4\"},\"cferslmfwh.mp4\":{\"label\":\"FAKE\",\"split\":\"train\",\"original\":\"fygviyzcjm.mp4\"},\"cffffbcywc.mp4\":{\"label\":\"FAKE\",\"split\":\"train\",\"original\":\"ztbinwxgyu.mp4\"},\"cfxkpiweqt.mp4\":{\"label\":\"REAL\",\"split\":\"train\",\"original\":null},\"cfyduhpbps.mp4\":{\"label\":\"FAKE\",\"split\":\"train\",\"original\":\"tfoxelmnjx.mp4\"},\"cglxirfaey.mp4\":{\"label\":\"FAKE\",\"split\":\"train\",\"original\":\"qypgyrxcme.mp4\"},\"cgvrgibpfo.mp4\":{\"label\":\"FAKE\",\"split\":\"train\",\"original\":\"puppdcffcj.mp4\"},\"chtapglbcj.mp4\":{\"label\":\"REAL\",\"split\":\"train\",\"original\":null},\"chviwxsfhg.mp4\":{\"label\":\"REAL\",\"split\":\"train\",\"original\":null},\"chzieimrwu.mp4\":{\"label\":\"FAKE\",\"split\":\"train\",\"original\":\"topyiohccg.mp4\"},\"ciyoudyhly.mp4\":{\"label\":\"REAL\",\"split\":\"train\",\"original\":null},\"cizlkenljw.mp4\":{\"label\":\"REAL\",\"split\":\"train\",\"original\":null},\"ckbdwedgmc.mp4\":{\"label\":\"FAKE\",\"split\":\"train\",\"original\":\"zrkinjhsuq.mp4\"},\"ckjaibzfxa.mp4\":{\"label\":\"REAL\",\"split\":\"train\",\"original\":null},\"ckkuyewywx.mp4\":{\"label\":\"REAL\",\"split\":\"train\",\"original\":null},\"cknyxaqouy.mp4\":{\"label\":\"FAKE\",\"split\":\"train\",\"original\":\"bwipwzzxxu.mp4\"},\"cksanfsjhc.mp4\":{\"label\":\"FAKE\",\"split\":\"train\",\"original\":\"atkdltyyen.mp4\"},\"clihsshdkq.mp4\":{\"label\":\"FAKE\",\"split\":\"train\",\"original\":\"qzimuostzz.mp4\"},\"clrycekyst.mp4\":{\"label\":\"REAL\",\"split\":\"train\",\"original\":null},\"cmbzllswnl.mp4\":{\"label\":\"REAL\",\"split\":\"train\",\"original\":null},\"cmxcfkrjiv.mp4\":{\"label\":\"FAKE\",\"split\":\"train\",\"original\":\"ztbinwxgyu.mp4\"},\"cnilkgvfei.mp4\":{\"label\":\"FAKE\",\"split\":\"train\",\"original\":\"kwyvikrgmx.mp4\"},\"coadfnerlk.mp4\":{\"label\":\"FAKE\",\"split\":\"train\",\"original\":\"bwipwzzxxu.mp4\"},\"cobjrlugvp.mp4\":{\"label\":\"REAL\",\"split\":\"train\",\"original\":null},\"covdcysmbi.mp4\":{\"label\":\"FAKE\",\"split\":\"train\",\"original\":\"jomvcqqars.mp4\"},\"cpjxareypw.mp4\":{\"label\":\"REAL\",\"split\":\"train\",\"original\":null},\"cppdvdejkc.mp4\":{\"label\":\"REAL\",\"split\":\"train\",\"original\":null},\"cprhtltsjp.mp4\":{\"label\":\"REAL\",\"split\":\"train\",\"original\":null},\"cqfugiqupm.mp4\":{\"label\":\"FAKE\",\"split\":\"train\",\"original\":\"fpvduejzcw.mp4\"},\"cqhngvpgyi.mp4\":{\"label\":\"FAKE\",\"split\":\"train\",\"original\":\"tfoixxmpoo.mp4\"},\"cqrskwiqng.mp4\":{\"label\":\"FAKE\",\"split\":\"train\",\"original\":\"swedbyuehz.mp4\"},\"crezycjqyk.mp4\":{\"label\":\"REAL\",\"split\":\"train\",\"original\":null},\"crktehraph.mp4\":{\"label\":\"FAKE\",\"split\":\"train\",\"original\":\"vrsinxahfh.mp4\"},\"crzfebnfgb.mp4\":{\"label\":\"FAKE\",\"split\":\"train\",\"original\":\"wgmbcqfgkp.mp4\"},\"cthdnahrkh.mp4\":{\"label\":\"FAKE\",\"split\":\"train\",\"original\":\"vrsinxahfh.mp4\"},\"ctpqeykqdp.mp4\":{\"label\":\"FAKE\",\"split\":\"train\",\"original\":\"iklzfeueid.mp4\"},\"cttqtsjvgn.mp4\":{\"label\":\"FAKE\",\"split\":\"train\",\"original\":\"fkyrrigzpt.mp4\"},\"ctzmavwror.mp4\":{\"label\":\"FAKE\",\"split\":\"train\",\"original\":\"lkdlzpkukw.mp4\"},\"curpwogllm.mp4\":{\"label\":\"FAKE\",\"split\":\"train\",\"original\":\"chtapglbcj.mp4\"},\"cuzrgrbvil.mp4\":{\"label\":\"FAKE\",\"split\":\"train\",\"original\":\"iiomvouemm.mp4\"},\"cvaksbpssm.mp4\":{\"label\":\"FAKE\",\"split\":\"train\",\"original\":\"gdfyzwykty.mp4\"},\"cwbacdwrzo.mp4\":{\"label\":\"FAKE\",\"split\":\"train\",\"original\":\"fecysfujzk.mp4\"},\"cwqlvzefpg.mp4\":{\"label\":\"FAKE\",\"split\":\"train\",\"original\":\"qeumxirsme.mp4\"},\"cwrtyzndpx.mp4\":{\"label\":\"FAKE\",\"split\":\"train\",\"original\":\"kgbkktcjxf.mp4\"},\"cwsbspfzck.mp4\":{\"label\":\"FAKE\",\"split\":\"train\",\"original\":\"wtreibcmgm.mp4\"},\"cwwandrkus.mp4\":{\"label\":\"FAKE\",\"split\":\"train\",\"original\":\"kgbkktcjxf.mp4\"},\"cxfujlvsuw.mp4\":{\"label\":\"FAKE\",\"split\":\"train\",\"original\":\"qtnjyomzwo.mp4\"},\"cxrfacemmq.mp4\":{\"label\":\"FAKE\",\"split\":\"train\",\"original\":\"dlpoieqvfb.mp4\"},\"cxttmymlbn.mp4\":{\"label\":\"FAKE\",\"split\":\"train\",\"original\":\"qapnbtdypb.mp4\"},\"cyboodqqyr.mp4\":{\"label\":\"FAKE\",\"split\":\"train\",\"original\":\"qeumxirsme.mp4\"},\"cycacemkmt.mp4\":{\"label\":\"FAKE\",\"split\":\"train\",\"original\":\"atvmxvwyns.mp4\"},\"cyclgfjdrv.mp4\":{\"label\":\"FAKE\",\"split\":\"train\",\"original\":\"gbqrgajyca.mp4\"},\"cyxlcuyznd.mp4\":{\"label\":\"REAL\",\"split\":\"train\",\"original\":null},\"czfunozvwp.mp4\":{\"label\":\"FAKE\",\"split\":\"train\",\"original\":\"caifxvsozs.mp4\"},\"czkdanyadc.mp4\":{\"label\":\"FAKE\",\"split\":\"train\",\"original\":\"meawmsgiti.mp4\"},\"czmqpxrqoh.mp4\":{\"label\":\"FAKE\",\"split\":\"train\",\"original\":\"atvmxvwyns.mp4\"},\"dafhtipaml.mp4\":{\"label\":\"FAKE\",\"split\":\"train\",\"original\":\"kdodrvufdh.mp4\"},\"dakiztgtnw.mp4\":{\"label\":\"REAL\",\"split\":\"train\",\"original\":null},\"dakqwktlbi.mp4\":{\"label\":\"FAKE\",\"split\":\"train\",\"original\":\"atvmxvwyns.mp4\"},\"dbhoxkblzx.mp4\":{\"label\":\"FAKE\",\"split\":\"train\",\"original\":\"qtnjyomzwo.mp4\"},\"dbhrpizyeq.mp4\":{\"label\":\"FAKE\",\"split\":\"train\",\"original\":\"ffcwhpnpuw.mp4\"},\"dbnygxtwek.mp4\":{\"label\":\"REAL\",\"split\":\"train\",\"original\":null},\"dboxtiehng.mp4\":{\"label\":\"FAKE\",\"split\":\"train\",\"original\":\"jjyfvzxwwx.mp4\"},\"dbtbbhakdv.mp4\":{\"label\":\"REAL\",\"split\":\"train\",\"original\":null},\"dbzcqmxzaj.mp4\":{\"label\":\"FAKE\",\"split\":\"train\",\"original\":\"yxyhvdlrgk.mp4\"},\"dbzpcjntve.mp4\":{\"label\":\"FAKE\",\"split\":\"train\",\"original\":\"ellavthztb.mp4\"},\"dcamvmuors.mp4\":{\"label\":\"FAKE\",\"split\":\"train\",\"original\":\"iuzdfwsefw.mp4\"},\"dcuiiorugd.mp4\":{\"label\":\"FAKE\",\"split\":\"train\",\"original\":\"wapebjxejr.mp4\"},\"ddepeddixj.mp4\":{\"label\":\"REAL\",\"split\":\"train\",\"original\":null},\"ddhfabwpuz.mp4\":{\"label\":\"FAKE\",\"split\":\"train\",\"original\":\"luvasmspox.mp4\"},\"ddjggcasdw.mp4\":{\"label\":\"FAKE\",\"split\":\"train\",\"original\":\"qtnjyomzwo.mp4\"},\"ddpvuimigj.mp4\":{\"label\":\"FAKE\",\"split\":\"train\",\"original\":\"ijokcwewbs.mp4\"},\"ddqccgmtka.mp4\":{\"label\":\"FAKE\",\"split\":\"train\",\"original\":\"qokxxuayqn.mp4\"},\"degpbqvcay.mp4\":{\"label\":\"FAKE\",\"split\":\"train\",\"original\":\"ptokilxwcx.mp4\"},\"deywhkarol.mp4\":{\"label\":\"FAKE\",\"split\":\"train\",\"original\":\"ljaifbsfuw.mp4\"},\"deyyistcrd.mp4\":{\"label\":\"FAKE\",\"split\":\"train\",\"original\":\"ywvlvpvroj.mp4\"},\"dfbpceeaox.mp4\":{\"label\":\"FAKE\",\"split\":\"train\",\"original\":\"bffwsjxghk.mp4\"},\"dgmevclvzy.mp4\":{\"label\":\"FAKE\",\"split\":\"train\",\"original\":\"jzmdganfys.mp4\"},\"dgxrqjdomn.mp4\":{\"label\":\"FAKE\",\"split\":\"train\",\"original\":\"duycddgtrl.mp4\"},\"dgzklxjmix.mp4\":{\"label\":\"FAKE\",\"split\":\"train\",\"original\":\"jszyyhamrh.mp4\"},\"dhcndnuwta.mp4\":{\"label\":\"REAL\",\"split\":\"train\",\"original\":null},\"dhcselezer.mp4\":{\"label\":\"FAKE\",\"split\":\"train\",\"original\":\"uonshkejav.mp4\"},\"dhevettufk.mp4\":{\"label\":\"FAKE\",\"split\":\"train\",\"original\":\"cppdvdejkc.mp4\"},\"dhjmzhrcav.mp4\":{\"label\":\"FAKE\",\"split\":\"train\",\"original\":\"tdohqkzvbk.mp4\"},\"dhkwmjxwrn.mp4\":{\"label\":\"FAKE\",\"split\":\"train\",\"original\":\"ehccixxzoe.mp4\"},\"dhoqofwoxa.mp4\":{\"label\":\"FAKE\",\"split\":\"train\",\"original\":\"gbqrgajyca.mp4\"},\"dhxctgyoqj.mp4\":{\"label\":\"REAL\",\"split\":\"train\",\"original\":null},\"diomeixhrg.mp4\":{\"label\":\"FAKE\",\"split\":\"train\",\"original\":\"gneufaypol.mp4\"},\"diopzaywor.mp4\":{\"label\":\"FAKE\",\"split\":\"train\",\"original\":\"fgfyrfyqay.mp4\"},\"diqraixiov.mp4\":{\"label\":\"FAKE\",\"split\":\"train\",\"original\":\"gmihbscmwq.mp4\"},\"diuzrpqjli.mp4\":{\"label\":\"FAKE\",\"split\":\"train\",\"original\":\"smggzgxymo.mp4\"},\"djvtbgwdcc.mp4\":{\"label\":\"FAKE\",\"split\":\"train\",\"original\":\"jljpdojupu.mp4\"},\"djvutyvaio.mp4\":{\"label\":\"FAKE\",\"split\":\"train\",\"original\":\"zhfyuhonra.mp4\"},\"djxdyjopjd.mp4\":{\"label\":\"REAL\",\"split\":\"train\",\"original\":null},\"dkdwxmtpuo.mp4\":{\"label\":\"FAKE\",\"split\":\"train\",\"original\":\"mmhqllmlew.mp4\"},\"dkhlttuvmx.mp4\":{\"label\":\"FAKE\",\"split\":\"train\",\"original\":\"qeumxirsme.mp4\"},\"dkrvorliqc.mp4\":{\"label\":\"FAKE\",\"split\":\"train\",\"original\":\"hcswybumab.mp4\"},\"dkuayagnmc.mp4\":{\"label\":\"REAL\",\"split\":\"train\",\"original\":null},\"dkwjwbwgey.mp4\":{\"label\":\"FAKE\",\"split\":\"train\",\"original\":\"rfzzrftgco.mp4\"},\"dkzvdrzcnr.mp4\":{\"label\":\"REAL\",\"split\":\"train\",\"original\":null},\"dlpoieqvfb.mp4\":{\"label\":\"REAL\",\"split\":\"train\",\"original\":null},\"dlrsbscitn.mp4\":{\"label\":\"FAKE\",\"split\":\"train\",\"original\":\"ztbinwxgyu.mp4\"},\"dnexlwbcxq.mp4\":{\"label\":\"FAKE\",\"split\":\"train\",\"original\":\"ezaajaswoe.mp4\"},\"dnhvalzvrt.mp4\":{\"label\":\"FAKE\",\"split\":\"train\",\"original\":\"tamayudqqx.mp4\"},\"dntkzzzcdh.mp4\":{\"label\":\"FAKE\",\"split\":\"train\",\"original\":\"gnyspcpbhd.mp4\"},\"dnyvfblxpm.mp4\":{\"label\":\"FAKE\",\"split\":\"train\",\"original\":\"eckvhdusax.mp4\"},\"doanjploai.mp4\":{\"label\":\"FAKE\",\"split\":\"train\",\"original\":\"fkqptfouqw.mp4\"},\"dofusvhnib.mp4\":{\"label\":\"FAKE\",\"split\":\"train\",\"original\":\"xnfwdpptym.mp4\"},\"dozyddhild.mp4\":{\"label\":\"FAKE\",\"split\":\"train\",\"original\":\"ngdswpaqnt.mp4\"},\"dptbnjnkdg.mp4\":{\"label\":\"FAKE\",\"split\":\"train\",\"original\":\"kkzsnmrkqk.mp4\"},\"dptrzdvwpg.mp4\":{\"label\":\"FAKE\",\"split\":\"train\",\"original\":\"iiomvouemm.mp4\"},\"dqnyszdong.mp4\":{\"label\":\"FAKE\",\"split\":\"train\",\"original\":\"qeumxirsme.mp4\"},\"dqppxmoqdl.mp4\":{\"label\":\"FAKE\",\"split\":\"train\",\"original\":\"zrkinjhsuq.mp4\"},\"dqqtjcryjv.mp4\":{\"label\":\"FAKE\",\"split\":\"train\",\"original\":\"iyefnuagav.mp4\"},\"dqswpjoepo.mp4\":{\"label\":\"FAKE\",\"split\":\"train\",\"original\":\"kydlpqfrvv.mp4\"},\"dqzreruvje.mp4\":{\"label\":\"FAKE\",\"split\":\"train\",\"original\":\"rlldzrnmdn.mp4\"},\"drcyabprvt.mp4\":{\"label\":\"REAL\",\"split\":\"train\",\"original\":null},\"drgjzlxzxj.mp4\":{\"label\":\"FAKE\",\"split\":\"train\",\"original\":\"yagllixjvh.mp4\"},\"drsakwyvqv.mp4\":{\"label\":\"FAKE\",\"split\":\"train\",\"original\":\"jomvcqqars.mp4\"},\"drtbksnpol.mp4\":{\"label\":\"FAKE\",\"split\":\"train\",\"original\":\"dzyuwjkjui.mp4\"},\"dsdoseflas.mp4\":{\"label\":\"FAKE\",\"split\":\"train\",\"original\":\"dzyuwjkjui.mp4\"},\"dsgpbgsrdm.mp4\":{\"label\":\"FAKE\",\"split\":\"train\",\"original\":\"nlerwupaqr.mp4\"},\"dsjbknkujw.mp4\":{\"label\":\"REAL\",\"split\":\"train\",\"original\":null},\"dsndhujjjb.mp4\":{\"label\":\"FAKE\",\"split\":\"train\",\"original\":\"ohnonevlro.mp4\"},\"dtbpmdqvao.mp4\":{\"label\":\"FAKE\",\"split\":\"train\",\"original\":\"gjypopglvi.mp4\"},\"dtocdfbwca.mp4\":{\"label\":\"FAKE\",\"split\":\"train\",\"original\":\"dakiztgtnw.mp4\"},\"dubiroskqn.mp4\":{\"label\":\"FAKE\",\"split\":\"train\",\"original\":\"gzyzdcbuuv.mp4\"},\"dulanfulol.mp4\":{\"label\":\"FAKE\",\"split\":\"train\",\"original\":\"iieoqptzec.mp4\"},\"duvyaxbzvp.mp4\":{\"label\":\"FAKE\",\"split\":\"train\",\"original\":\"fgfyrfyqay.mp4\"},\"duycddgtrl.mp4\":{\"label\":\"REAL\",\"split\":\"train\",\"original\":null},\"duzuusuajr.mp4\":{\"label\":\"FAKE\",\"split\":\"train\",\"original\":\"fgfyrfyqay.mp4\"},\"dvakowbgbt.mp4\":{\"label\":\"FAKE\",\"split\":\"train\",\"original\":\"slwkmefgde.mp4\"},\"dvumqqhoac.mp4\":{\"label\":\"FAKE\",\"split\":\"train\",\"original\":\"kuelhabsmz.mp4\"},\"dwediigjit.mp4\":{\"label\":\"FAKE\",\"split\":\"train\",\"original\":\"tmdformfqp.mp4\"},\"dxbqjxrhin.mp4\":{\"label\":\"REAL\",\"split\":\"train\",\"original\":null},\"dxuliowugt.mp4\":{\"label\":\"FAKE\",\"split\":\"train\",\"original\":\"imzqmbfugn.mp4\"},\"dxuplhwvig.mp4\":{\"label\":\"FAKE\",\"split\":\"train\",\"original\":\"yoavqsqobz.mp4\"},\"dzieklokdr.mp4\":{\"label\":\"FAKE\",\"split\":\"train\",\"original\":\"pylnolwenx.mp4\"},\"dzqwgqewhu.mp4\":{\"label\":\"FAKE\",\"split\":\"train\",\"original\":\"xwcggrygwl.mp4\"},\"dzvyfiarrq.mp4\":{\"label\":\"FAKE\",\"split\":\"train\",\"original\":\"bgwmmujlmc.mp4\"},\"dzwkmcwkwl.mp4\":{\"label\":\"FAKE\",\"split\":\"train\",\"original\":\"pqvypayzrp.mp4\"},\"dzyuwjkjui.mp4\":{\"label\":\"REAL\",\"split\":\"train\",\"original\":null},\"eahlqmfvtj.mp4\":{\"label\":\"FAKE\",\"split\":\"train\",\"original\":\"lyvlnqduqg.mp4\"},\"eajlrktemq.mp4\":{\"label\":\"FAKE\",\"split\":\"train\",\"original\":\"yjlsxqoauz.mp4\"},\"ebchwmwayp.mp4\":{\"label\":\"FAKE\",\"split\":\"train\",\"original\":\"ehccixxzoe.mp4\"},\"ebebgmtlcu.mp4\":{\"label\":\"FAKE\",\"split\":\"train\",\"original\":\"iufotyxgzb.mp4\"},\"ebeknhudxq.mp4\":{\"label\":\"FAKE\",\"split\":\"train\",\"original\":\"fysyrqfguw.mp4\"},\"ebkzwjgjhq.mp4\":{\"label\":\"FAKE\",\"split\":\"train\",\"original\":\"kgbkktcjxf.mp4\"},\"ebywfrmhtd.mp4\":{\"label\":\"FAKE\",\"split\":\"train\",\"original\":\"grnycmbdfu.mp4\"},\"eckvhdusax.mp4\":{\"label\":\"REAL\",\"split\":\"train\",\"original\":null},\"ecnihjlfyt.mp4\":{\"label\":\"FAKE\",\"split\":\"train\",\"original\":\"kysxawkest.mp4\"},\"ecujsjhscd.mp4\":{\"label\":\"REAL\",\"split\":\"train\",\"original\":null},\"ecuvtoltue.mp4\":{\"label\":\"FAKE\",\"split\":\"train\",\"original\":\"xngpzquyhs.mp4\"},\"ecwaxgutkc.mp4\":{\"label\":\"FAKE\",\"split\":\"train\",\"original\":\"itmwoyxbas.mp4\"},\"eczrseixwq.mp4\":{\"label\":\"FAKE\",\"split\":\"train\",\"original\":\"iieoqptzec.mp4\"},\"edyncaijwx.mp4\":{\"label\":\"REAL\",\"split\":\"train\",\"original\":null},\"eebrkicpry.mp4\":{\"label\":\"FAKE\",\"split\":\"train\",\"original\":\"rjlgchzmfv.mp4\"},\"eebserckhh.mp4\":{\"label\":\"FAKE\",\"split\":\"train\",\"original\":\"qzklcjjxdq.mp4\"},\"eejswgycjc.mp4\":{\"label\":\"FAKE\",\"split\":\"train\",\"original\":\"qzklcjjxdq.mp4\"},\"eekozbeafq.mp4\":{\"label\":\"FAKE\",\"split\":\"train\",\"original\":\"olakcrnuro.mp4\"},\"eepezmygaq.mp4\":{\"label\":\"FAKE\",\"split\":\"train\",\"original\":\"abarnvbtwb.mp4\"},\"eeyhxisdfh.mp4\":{\"label\":\"FAKE\",\"split\":\"train\",\"original\":\"lyvlnqduqg.mp4\"},\"efdyrflcpg.mp4\":{\"label\":\"FAKE\",\"split\":\"train\",\"original\":\"xngpzquyhs.mp4\"},\"efwfxwwlbw.mp4\":{\"label\":\"REAL\",\"split\":\"train\",\"original\":null},\"egbbcxcuqy.mp4\":{\"label\":\"FAKE\",\"split\":\"train\",\"original\":\"hqtepxaeqx.mp4\"},\"eggbjzxnmg.mp4\":{\"label\":\"REAL\",\"split\":\"train\",\"original\":null},\"egghxjjmfg.mp4\":{\"label\":\"REAL\",\"split\":\"train\",\"original\":null},\"ehbnclaukr.mp4\":{\"label\":\"FAKE\",\"split\":\"train\",\"original\":\"gipbyjfxfp.mp4\"},\"ehccixxzoe.mp4\":{\"label\":\"REAL\",\"split\":\"train\",\"original\":null},\"ehdkmxgtxh.mp4\":{\"label\":\"FAKE\",\"split\":\"train\",\"original\":\"bejhvclboh.mp4\"},\"ehevsxtecd.mp4\":{\"label\":\"FAKE\",\"split\":\"train\",\"original\":\"nzquxipbye.mp4\"},\"ehfiekigla.mp4\":{\"label\":\"FAKE\",\"split\":\"train\",\"original\":\"avmjormvsx.mp4\"},\"ehieahnhte.mp4\":{\"label\":\"FAKE\",\"split\":\"train\",\"original\":\"sasoxcqisz.mp4\"},\"ehtdtkmmli.mp4\":{\"label\":\"REAL\",\"split\":\"train\",\"original\":null},\"eiriyukqqy.mp4\":{\"label\":\"FAKE\",\"split\":\"train\",\"original\":\"ixuouyigxa.mp4\"},\"eivxffliio.mp4\":{\"label\":\"FAKE\",\"split\":\"train\",\"original\":\"joeifeskbs.mp4\"},\"eiwopxzjfn.mp4\":{\"label\":\"FAKE\",\"split\":\"train\",\"original\":\"xzvrgckqkz.mp4\"},\"eixwxvxbbn.mp4\":{\"label\":\"FAKE\",\"split\":\"train\",\"original\":\"ywvlvpvroj.mp4\"},\"ejkqesyvam.mp4\":{\"label\":\"FAKE\",\"split\":\"train\",\"original\":\"jwcsqxzdlv.mp4\"},\"ekcrtigpab.mp4\":{\"label\":\"REAL\",\"split\":\"train\",\"original\":null},\"ekhacizpah.mp4\":{\"label\":\"FAKE\",\"split\":\"train\",\"original\":\"egghxjjmfg.mp4\"},\"ekkdjkirzq.mp4\":{\"label\":\"FAKE\",\"split\":\"train\",\"original\":\"tivkmbqgwp.mp4\"},\"elginszwtk.mp4\":{\"label\":\"FAKE\",\"split\":\"train\",\"original\":\"gipbyjfxfp.mp4\"},\"ellavthztb.mp4\":{\"label\":\"REAL\",\"split\":\"train\",\"original\":null},\"elvvackpjh.mp4\":{\"label\":\"FAKE\",\"split\":\"train\",\"original\":\"qhkqqfznrg.mp4\"},\"emaalmsonj.mp4\":{\"label\":\"FAKE\",\"split\":\"train\",\"original\":\"dzyuwjkjui.mp4\"},\"emfbhytfhc.mp4\":{\"label\":\"FAKE\",\"split\":\"train\",\"original\":\"cprhtltsjp.mp4\"},\"emgjphonqb.mp4\":{\"label\":\"FAKE\",\"split\":\"train\",\"original\":\"ybjrqnqnno.mp4\"},\"ensyyivobf.mp4\":{\"label\":\"FAKE\",\"split\":\"train\",\"original\":\"lulmevqtla.mp4\"},\"eoewqcpbgt.mp4\":{\"label\":\"FAKE\",\"split\":\"train\",\"original\":\"gbqrgajyca.mp4\"},\"eprybmbpba.mp4\":{\"label\":\"FAKE\",\"split\":\"train\",\"original\":\"kuelhabsmz.mp4\"},\"epymyyiblu.mp4\":{\"label\":\"FAKE\",\"split\":\"train\",\"original\":\"svcnlasmeh.mp4\"},\"eqjscdagiv.mp4\":{\"label\":\"FAKE\",\"split\":\"train\",\"original\":\"dbnygxtwek.mp4\"},\"eqnoqyfquo.mp4\":{\"label\":\"REAL\",\"split\":\"train\",\"original\":null},\"eqvuznuwsa.mp4\":{\"label\":\"FAKE\",\"split\":\"train\",\"original\":\"cmbzllswnl.mp4\"},\"erlvuvjsjf.mp4\":{\"label\":\"REAL\",\"split\":\"train\",\"original\":null},\"erqgqacbqe.mp4\":{\"label\":\"FAKE\",\"split\":\"train\",\"original\":\"nvpluswotp.mp4\"},\"errocgcham.mp4\":{\"label\":\"FAKE\",\"split\":\"train\",\"original\":\"grnycmbdfu.mp4\"},\"esckbnkkvb.mp4\":{\"label\":\"FAKE\",\"split\":\"train\",\"original\":\"gdfyzwykty.mp4\"},\"esgftaficx.mp4\":{\"label\":\"FAKE\",\"split\":\"train\",\"original\":\"rrcsuwgpnd.mp4\"},\"esnntzzajv.mp4\":{\"label\":\"FAKE\",\"split\":\"train\",\"original\":\"ybetenmsye.mp4\"},\"esxrvsgpvb.mp4\":{\"label\":\"FAKE\",\"split\":\"train\",\"original\":\"gomwfvijiv.mp4\"},\"esyhwdfnxs.mp4\":{\"label\":\"FAKE\",\"split\":\"train\",\"original\":\"qeumxirsme.mp4\"},\"esyrimvzsa.mp4\":{\"label\":\"FAKE\",\"split\":\"train\",\"original\":\"qzklcjjxdq.mp4\"},\"etdcqxabww.mp4\":{\"label\":\"FAKE\",\"split\":\"train\",\"original\":\"gipbyjfxfp.mp4\"},\"etejaapnxh.mp4\":{\"label\":\"FAKE\",\"split\":\"train\",\"original\":\"wtreibcmgm.mp4\"},\"etmcruaihe.mp4\":{\"label\":\"FAKE\",\"split\":\"train\",\"original\":\"afoovlsmtx.mp4\"},\"etohcvnzbj.mp4\":{\"label\":\"FAKE\",\"split\":\"train\",\"original\":\"bdnaqemxmr.mp4\"},\"eudeqjhdfd.mp4\":{\"label\":\"REAL\",\"split\":\"train\",\"original\":null},\"eukvucdetx.mp4\":{\"label\":\"FAKE\",\"split\":\"train\",\"original\":\"gjypopglvi.mp4\"}}'}"
            ]
          },
          "metadata": {},
          "execution_count": 2
        }
      ]
    },
    {
      "cell_type": "code",
      "source": [
        "!mkdir -p ~/.kaggle\n",
        "!mv /content/kaggle.json ~/.kaggle/"
      ],
      "metadata": {
        "id": "ICgtfGZMkx4c"
      },
      "execution_count": null,
      "outputs": []
    },
    {
      "cell_type": "code",
      "source": [
        "!kaggle competitions download -c deepfake-detection-challenge"
      ],
      "metadata": {
        "colab": {
          "base_uri": "https://localhost:8080/"
        },
        "id": "htF2gBPah3Ba",
        "outputId": "d16afd35-d63c-413d-b51c-1c2284a1a8d8"
      },
      "execution_count": null,
      "outputs": [
        {
          "output_type": "stream",
          "name": "stdout",
          "text": [
            "Warning: Your Kaggle API key is readable by other users on this system! To fix this, you can run 'chmod 600 /root/.kaggle/kaggle.json'\n",
            "Downloading deepfake-detection-challenge.zip to /content\n",
            "100% 4.13G/4.13G [00:37<00:00, 117MB/s] \n",
            "100% 4.13G/4.13G [00:37<00:00, 117MB/s]\n"
          ]
        }
      ]
    },
    {
      "cell_type": "code",
      "source": [
        "!mkdir deep_fake"
      ],
      "metadata": {
        "id": "YSc2z259iPkQ",
        "colab": {
          "base_uri": "https://localhost:8080/"
        },
        "outputId": "df32aa0c-5da7-4a37-8a01-2abaa08664dc"
      },
      "execution_count": null,
      "outputs": [
        {
          "output_type": "stream",
          "name": "stdout",
          "text": [
            "mkdir: cannot create directory ‘deep_fake’: File exists\n"
          ]
        }
      ]
    },
    {
      "cell_type": "code",
      "source": [
        "%%capture\n",
        "!unzip deepfake-detection-challenge.zip -d deep_fake"
      ],
      "metadata": {
        "id": "qxsdyr5Ji4XQ"
      },
      "execution_count": null,
      "outputs": []
    },
    {
      "cell_type": "code",
      "source": [
        "import pandas as pd\n",
        "import json\n",
        "\n",
        "# Load the JSON data\n",
        "with open('metadata.json', 'r') as file:\n",
        "    data = json.load(file)\n",
        "\n",
        "# Convert the data into a list of dictionaries\n",
        "metadata_list = [{'filename': key, **value} for key, value in data.items()]\n",
        "\n",
        "# Create a DataFrame from the list\n",
        "df = pd.DataFrame(metadata_list)\n",
        "\n",
        "# Display the DataFrame\n",
        "df.tail()\n"
      ],
      "metadata": {
        "colab": {
          "base_uri": "https://localhost:8080/",
          "height": 206
        },
        "id": "ijmRLx4zi_Mc",
        "outputId": "d9423d83-4b8c-470a-a82a-08e0f5769cba"
      },
      "execution_count": null,
      "outputs": [
        {
          "output_type": "execute_result",
          "data": {
            "text/plain": [
              "           filename label  split        original\n",
              "395  etejaapnxh.mp4  FAKE  train  wtreibcmgm.mp4\n",
              "396  etmcruaihe.mp4  FAKE  train  afoovlsmtx.mp4\n",
              "397  etohcvnzbj.mp4  FAKE  train  bdnaqemxmr.mp4\n",
              "398  eudeqjhdfd.mp4  REAL  train            None\n",
              "399  eukvucdetx.mp4  FAKE  train  gjypopglvi.mp4"
            ],
            "text/html": [
              "\n",
              "  <div id=\"df-77485c3b-018c-4899-ba11-1a8e8b83c573\" class=\"colab-df-container\">\n",
              "    <div>\n",
              "<style scoped>\n",
              "    .dataframe tbody tr th:only-of-type {\n",
              "        vertical-align: middle;\n",
              "    }\n",
              "\n",
              "    .dataframe tbody tr th {\n",
              "        vertical-align: top;\n",
              "    }\n",
              "\n",
              "    .dataframe thead th {\n",
              "        text-align: right;\n",
              "    }\n",
              "</style>\n",
              "<table border=\"1\" class=\"dataframe\">\n",
              "  <thead>\n",
              "    <tr style=\"text-align: right;\">\n",
              "      <th></th>\n",
              "      <th>filename</th>\n",
              "      <th>label</th>\n",
              "      <th>split</th>\n",
              "      <th>original</th>\n",
              "    </tr>\n",
              "  </thead>\n",
              "  <tbody>\n",
              "    <tr>\n",
              "      <th>395</th>\n",
              "      <td>etejaapnxh.mp4</td>\n",
              "      <td>FAKE</td>\n",
              "      <td>train</td>\n",
              "      <td>wtreibcmgm.mp4</td>\n",
              "    </tr>\n",
              "    <tr>\n",
              "      <th>396</th>\n",
              "      <td>etmcruaihe.mp4</td>\n",
              "      <td>FAKE</td>\n",
              "      <td>train</td>\n",
              "      <td>afoovlsmtx.mp4</td>\n",
              "    </tr>\n",
              "    <tr>\n",
              "      <th>397</th>\n",
              "      <td>etohcvnzbj.mp4</td>\n",
              "      <td>FAKE</td>\n",
              "      <td>train</td>\n",
              "      <td>bdnaqemxmr.mp4</td>\n",
              "    </tr>\n",
              "    <tr>\n",
              "      <th>398</th>\n",
              "      <td>eudeqjhdfd.mp4</td>\n",
              "      <td>REAL</td>\n",
              "      <td>train</td>\n",
              "      <td>None</td>\n",
              "    </tr>\n",
              "    <tr>\n",
              "      <th>399</th>\n",
              "      <td>eukvucdetx.mp4</td>\n",
              "      <td>FAKE</td>\n",
              "      <td>train</td>\n",
              "      <td>gjypopglvi.mp4</td>\n",
              "    </tr>\n",
              "  </tbody>\n",
              "</table>\n",
              "</div>\n",
              "    <div class=\"colab-df-buttons\">\n",
              "\n",
              "  <div class=\"colab-df-container\">\n",
              "    <button class=\"colab-df-convert\" onclick=\"convertToInteractive('df-77485c3b-018c-4899-ba11-1a8e8b83c573')\"\n",
              "            title=\"Convert this dataframe to an interactive table.\"\n",
              "            style=\"display:none;\">\n",
              "\n",
              "  <svg xmlns=\"http://www.w3.org/2000/svg\" height=\"24px\" viewBox=\"0 -960 960 960\">\n",
              "    <path d=\"M120-120v-720h720v720H120Zm60-500h600v-160H180v160Zm220 220h160v-160H400v160Zm0 220h160v-160H400v160ZM180-400h160v-160H180v160Zm440 0h160v-160H620v160ZM180-180h160v-160H180v160Zm440 0h160v-160H620v160Z\"/>\n",
              "  </svg>\n",
              "    </button>\n",
              "\n",
              "  <style>\n",
              "    .colab-df-container {\n",
              "      display:flex;\n",
              "      gap: 12px;\n",
              "    }\n",
              "\n",
              "    .colab-df-convert {\n",
              "      background-color: #E8F0FE;\n",
              "      border: none;\n",
              "      border-radius: 50%;\n",
              "      cursor: pointer;\n",
              "      display: none;\n",
              "      fill: #1967D2;\n",
              "      height: 32px;\n",
              "      padding: 0 0 0 0;\n",
              "      width: 32px;\n",
              "    }\n",
              "\n",
              "    .colab-df-convert:hover {\n",
              "      background-color: #E2EBFA;\n",
              "      box-shadow: 0px 1px 2px rgba(60, 64, 67, 0.3), 0px 1px 3px 1px rgba(60, 64, 67, 0.15);\n",
              "      fill: #174EA6;\n",
              "    }\n",
              "\n",
              "    .colab-df-buttons div {\n",
              "      margin-bottom: 4px;\n",
              "    }\n",
              "\n",
              "    [theme=dark] .colab-df-convert {\n",
              "      background-color: #3B4455;\n",
              "      fill: #D2E3FC;\n",
              "    }\n",
              "\n",
              "    [theme=dark] .colab-df-convert:hover {\n",
              "      background-color: #434B5C;\n",
              "      box-shadow: 0px 1px 3px 1px rgba(0, 0, 0, 0.15);\n",
              "      filter: drop-shadow(0px 1px 2px rgba(0, 0, 0, 0.3));\n",
              "      fill: #FFFFFF;\n",
              "    }\n",
              "  </style>\n",
              "\n",
              "    <script>\n",
              "      const buttonEl =\n",
              "        document.querySelector('#df-77485c3b-018c-4899-ba11-1a8e8b83c573 button.colab-df-convert');\n",
              "      buttonEl.style.display =\n",
              "        google.colab.kernel.accessAllowed ? 'block' : 'none';\n",
              "\n",
              "      async function convertToInteractive(key) {\n",
              "        const element = document.querySelector('#df-77485c3b-018c-4899-ba11-1a8e8b83c573');\n",
              "        const dataTable =\n",
              "          await google.colab.kernel.invokeFunction('convertToInteractive',\n",
              "                                                    [key], {});\n",
              "        if (!dataTable) return;\n",
              "\n",
              "        const docLinkHtml = 'Like what you see? Visit the ' +\n",
              "          '<a target=\"_blank\" href=https://colab.research.google.com/notebooks/data_table.ipynb>data table notebook</a>'\n",
              "          + ' to learn more about interactive tables.';\n",
              "        element.innerHTML = '';\n",
              "        dataTable['output_type'] = 'display_data';\n",
              "        await google.colab.output.renderOutput(dataTable, element);\n",
              "        const docLink = document.createElement('div');\n",
              "        docLink.innerHTML = docLinkHtml;\n",
              "        element.appendChild(docLink);\n",
              "      }\n",
              "    </script>\n",
              "  </div>\n",
              "\n",
              "\n",
              "<div id=\"df-2a58355e-0487-4278-a31b-a2d7026d96c1\">\n",
              "  <button class=\"colab-df-quickchart\" onclick=\"quickchart('df-2a58355e-0487-4278-a31b-a2d7026d96c1')\"\n",
              "            title=\"Suggest charts\"\n",
              "            style=\"display:none;\">\n",
              "\n",
              "<svg xmlns=\"http://www.w3.org/2000/svg\" height=\"24px\"viewBox=\"0 0 24 24\"\n",
              "     width=\"24px\">\n",
              "    <g>\n",
              "        <path d=\"M19 3H5c-1.1 0-2 .9-2 2v14c0 1.1.9 2 2 2h14c1.1 0 2-.9 2-2V5c0-1.1-.9-2-2-2zM9 17H7v-7h2v7zm4 0h-2V7h2v10zm4 0h-2v-4h2v4z\"/>\n",
              "    </g>\n",
              "</svg>\n",
              "  </button>\n",
              "\n",
              "<style>\n",
              "  .colab-df-quickchart {\n",
              "      --bg-color: #E8F0FE;\n",
              "      --fill-color: #1967D2;\n",
              "      --hover-bg-color: #E2EBFA;\n",
              "      --hover-fill-color: #174EA6;\n",
              "      --disabled-fill-color: #AAA;\n",
              "      --disabled-bg-color: #DDD;\n",
              "  }\n",
              "\n",
              "  [theme=dark] .colab-df-quickchart {\n",
              "      --bg-color: #3B4455;\n",
              "      --fill-color: #D2E3FC;\n",
              "      --hover-bg-color: #434B5C;\n",
              "      --hover-fill-color: #FFFFFF;\n",
              "      --disabled-bg-color: #3B4455;\n",
              "      --disabled-fill-color: #666;\n",
              "  }\n",
              "\n",
              "  .colab-df-quickchart {\n",
              "    background-color: var(--bg-color);\n",
              "    border: none;\n",
              "    border-radius: 50%;\n",
              "    cursor: pointer;\n",
              "    display: none;\n",
              "    fill: var(--fill-color);\n",
              "    height: 32px;\n",
              "    padding: 0;\n",
              "    width: 32px;\n",
              "  }\n",
              "\n",
              "  .colab-df-quickchart:hover {\n",
              "    background-color: var(--hover-bg-color);\n",
              "    box-shadow: 0 1px 2px rgba(60, 64, 67, 0.3), 0 1px 3px 1px rgba(60, 64, 67, 0.15);\n",
              "    fill: var(--button-hover-fill-color);\n",
              "  }\n",
              "\n",
              "  .colab-df-quickchart-complete:disabled,\n",
              "  .colab-df-quickchart-complete:disabled:hover {\n",
              "    background-color: var(--disabled-bg-color);\n",
              "    fill: var(--disabled-fill-color);\n",
              "    box-shadow: none;\n",
              "  }\n",
              "\n",
              "  .colab-df-spinner {\n",
              "    border: 2px solid var(--fill-color);\n",
              "    border-color: transparent;\n",
              "    border-bottom-color: var(--fill-color);\n",
              "    animation:\n",
              "      spin 1s steps(1) infinite;\n",
              "  }\n",
              "\n",
              "  @keyframes spin {\n",
              "    0% {\n",
              "      border-color: transparent;\n",
              "      border-bottom-color: var(--fill-color);\n",
              "      border-left-color: var(--fill-color);\n",
              "    }\n",
              "    20% {\n",
              "      border-color: transparent;\n",
              "      border-left-color: var(--fill-color);\n",
              "      border-top-color: var(--fill-color);\n",
              "    }\n",
              "    30% {\n",
              "      border-color: transparent;\n",
              "      border-left-color: var(--fill-color);\n",
              "      border-top-color: var(--fill-color);\n",
              "      border-right-color: var(--fill-color);\n",
              "    }\n",
              "    40% {\n",
              "      border-color: transparent;\n",
              "      border-right-color: var(--fill-color);\n",
              "      border-top-color: var(--fill-color);\n",
              "    }\n",
              "    60% {\n",
              "      border-color: transparent;\n",
              "      border-right-color: var(--fill-color);\n",
              "    }\n",
              "    80% {\n",
              "      border-color: transparent;\n",
              "      border-right-color: var(--fill-color);\n",
              "      border-bottom-color: var(--fill-color);\n",
              "    }\n",
              "    90% {\n",
              "      border-color: transparent;\n",
              "      border-bottom-color: var(--fill-color);\n",
              "    }\n",
              "  }\n",
              "</style>\n",
              "\n",
              "  <script>\n",
              "    async function quickchart(key) {\n",
              "      const quickchartButtonEl =\n",
              "        document.querySelector('#' + key + ' button');\n",
              "      quickchartButtonEl.disabled = true;  // To prevent multiple clicks.\n",
              "      quickchartButtonEl.classList.add('colab-df-spinner');\n",
              "      try {\n",
              "        const charts = await google.colab.kernel.invokeFunction(\n",
              "            'suggestCharts', [key], {});\n",
              "      } catch (error) {\n",
              "        console.error('Error during call to suggestCharts:', error);\n",
              "      }\n",
              "      quickchartButtonEl.classList.remove('colab-df-spinner');\n",
              "      quickchartButtonEl.classList.add('colab-df-quickchart-complete');\n",
              "    }\n",
              "    (() => {\n",
              "      let quickchartButtonEl =\n",
              "        document.querySelector('#df-2a58355e-0487-4278-a31b-a2d7026d96c1 button');\n",
              "      quickchartButtonEl.style.display =\n",
              "        google.colab.kernel.accessAllowed ? 'block' : 'none';\n",
              "    })();\n",
              "  </script>\n",
              "</div>\n",
              "\n",
              "    </div>\n",
              "  </div>\n"
            ],
            "application/vnd.google.colaboratory.intrinsic+json": {
              "type": "dataframe",
              "summary": "{\n  \"name\": \"df\",\n  \"rows\": 5,\n  \"fields\": [\n    {\n      \"column\": \"filename\",\n      \"properties\": {\n        \"dtype\": \"string\",\n        \"num_unique_values\": 5,\n        \"samples\": [\n          \"etmcruaihe.mp4\",\n          \"eukvucdetx.mp4\",\n          \"etohcvnzbj.mp4\"\n        ],\n        \"semantic_type\": \"\",\n        \"description\": \"\"\n      }\n    },\n    {\n      \"column\": \"label\",\n      \"properties\": {\n        \"dtype\": \"category\",\n        \"num_unique_values\": 2,\n        \"samples\": [\n          \"REAL\",\n          \"FAKE\"\n        ],\n        \"semantic_type\": \"\",\n        \"description\": \"\"\n      }\n    },\n    {\n      \"column\": \"split\",\n      \"properties\": {\n        \"dtype\": \"category\",\n        \"num_unique_values\": 1,\n        \"samples\": [\n          \"train\"\n        ],\n        \"semantic_type\": \"\",\n        \"description\": \"\"\n      }\n    },\n    {\n      \"column\": \"original\",\n      \"properties\": {\n        \"dtype\": \"string\",\n        \"num_unique_values\": 4,\n        \"samples\": [\n          \"afoovlsmtx.mp4\"\n        ],\n        \"semantic_type\": \"\",\n        \"description\": \"\"\n      }\n    }\n  ]\n}"
            }
          },
          "metadata": {},
          "execution_count": 8
        }
      ]
    },
    {
      "cell_type": "code",
      "source": [
        "df['label'].value_counts()"
      ],
      "metadata": {
        "colab": {
          "base_uri": "https://localhost:8080/"
        },
        "id": "cZ19WKU_kSzw",
        "outputId": "2cd78692-f545-4a18-a1e8-1d3aad7b3662"
      },
      "execution_count": null,
      "outputs": [
        {
          "output_type": "execute_result",
          "data": {
            "text/plain": [
              "label\n",
              "FAKE    323\n",
              "REAL     77\n",
              "Name: count, dtype: int64"
            ]
          },
          "metadata": {},
          "execution_count": 9
        }
      ]
    },
    {
      "cell_type": "code",
      "source": [
        "data = df.drop(['split','original'],axis=1)"
      ],
      "metadata": {
        "id": "uc2Hhq5PlKXH"
      },
      "execution_count": null,
      "outputs": []
    },
    {
      "cell_type": "code",
      "source": [
        "import os\n",
        "\n",
        "path ='/content/deep_fake/train_sample_videos'\n",
        "\n",
        "data['filename'] = data['filename'].apply(lambda x: os.path.join(path, x))"
      ],
      "metadata": {
        "id": "ipLjkYF9lvMF"
      },
      "execution_count": null,
      "outputs": []
    },
    {
      "cell_type": "code",
      "source": [
        "data.info()"
      ],
      "metadata": {
        "colab": {
          "base_uri": "https://localhost:8080/"
        },
        "id": "2_xpwpqVmtKo",
        "outputId": "1f47a83c-bcfb-4035-e08e-2d859a392378"
      },
      "execution_count": null,
      "outputs": [
        {
          "output_type": "stream",
          "name": "stdout",
          "text": [
            "<class 'pandas.core.frame.DataFrame'>\n",
            "RangeIndex: 400 entries, 0 to 399\n",
            "Data columns (total 2 columns):\n",
            " #   Column    Non-Null Count  Dtype \n",
            "---  ------    --------------  ----- \n",
            " 0   filename  400 non-null    object\n",
            " 1   label     400 non-null    object\n",
            "dtypes: object(2)\n",
            "memory usage: 6.4+ KB\n"
          ]
        }
      ]
    },
    {
      "cell_type": "code",
      "source": [
        "data['label'] = data['label'].apply(lambda x: 0 if x == 'REAL' else 1)"
      ],
      "metadata": {
        "id": "7B9Upw77m6S8"
      },
      "execution_count": null,
      "outputs": []
    },
    {
      "cell_type": "code",
      "source": [
        "data['label'].value_counts()"
      ],
      "metadata": {
        "colab": {
          "base_uri": "https://localhost:8080/"
        },
        "id": "2lJb9tlInTB2",
        "outputId": "421afc75-0d5b-4c1b-ca52-048ab9787ce8"
      },
      "execution_count": null,
      "outputs": [
        {
          "output_type": "execute_result",
          "data": {
            "text/plain": [
              "label\n",
              "1    323\n",
              "0     77\n",
              "Name: count, dtype: int64"
            ]
          },
          "metadata": {},
          "execution_count": 14
        }
      ]
    },
    {
      "cell_type": "code",
      "source": [
        "data"
      ],
      "metadata": {
        "colab": {
          "base_uri": "https://localhost:8080/",
          "height": 423
        },
        "id": "e7l8Kd5dnHsq",
        "outputId": "db375185-b145-4656-ee18-611ff4de1af5"
      },
      "execution_count": null,
      "outputs": [
        {
          "output_type": "execute_result",
          "data": {
            "text/plain": [
              "                                              filename  label\n",
              "0    /content/deep_fake/train_sample_videos/aagfhgt...      1\n",
              "1    /content/deep_fake/train_sample_videos/aapnvog...      1\n",
              "2    /content/deep_fake/train_sample_videos/abarnvb...      0\n",
              "3    /content/deep_fake/train_sample_videos/abofeum...      1\n",
              "4    /content/deep_fake/train_sample_videos/abqwwsp...      1\n",
              "..                                                 ...    ...\n",
              "395  /content/deep_fake/train_sample_videos/etejaap...      1\n",
              "396  /content/deep_fake/train_sample_videos/etmcrua...      1\n",
              "397  /content/deep_fake/train_sample_videos/etohcvn...      1\n",
              "398  /content/deep_fake/train_sample_videos/eudeqjh...      0\n",
              "399  /content/deep_fake/train_sample_videos/eukvucd...      1\n",
              "\n",
              "[400 rows x 2 columns]"
            ],
            "text/html": [
              "\n",
              "  <div id=\"df-894ba598-fe12-408f-8571-6a3995c63315\" class=\"colab-df-container\">\n",
              "    <div>\n",
              "<style scoped>\n",
              "    .dataframe tbody tr th:only-of-type {\n",
              "        vertical-align: middle;\n",
              "    }\n",
              "\n",
              "    .dataframe tbody tr th {\n",
              "        vertical-align: top;\n",
              "    }\n",
              "\n",
              "    .dataframe thead th {\n",
              "        text-align: right;\n",
              "    }\n",
              "</style>\n",
              "<table border=\"1\" class=\"dataframe\">\n",
              "  <thead>\n",
              "    <tr style=\"text-align: right;\">\n",
              "      <th></th>\n",
              "      <th>filename</th>\n",
              "      <th>label</th>\n",
              "    </tr>\n",
              "  </thead>\n",
              "  <tbody>\n",
              "    <tr>\n",
              "      <th>0</th>\n",
              "      <td>/content/deep_fake/train_sample_videos/aagfhgt...</td>\n",
              "      <td>1</td>\n",
              "    </tr>\n",
              "    <tr>\n",
              "      <th>1</th>\n",
              "      <td>/content/deep_fake/train_sample_videos/aapnvog...</td>\n",
              "      <td>1</td>\n",
              "    </tr>\n",
              "    <tr>\n",
              "      <th>2</th>\n",
              "      <td>/content/deep_fake/train_sample_videos/abarnvb...</td>\n",
              "      <td>0</td>\n",
              "    </tr>\n",
              "    <tr>\n",
              "      <th>3</th>\n",
              "      <td>/content/deep_fake/train_sample_videos/abofeum...</td>\n",
              "      <td>1</td>\n",
              "    </tr>\n",
              "    <tr>\n",
              "      <th>4</th>\n",
              "      <td>/content/deep_fake/train_sample_videos/abqwwsp...</td>\n",
              "      <td>1</td>\n",
              "    </tr>\n",
              "    <tr>\n",
              "      <th>...</th>\n",
              "      <td>...</td>\n",
              "      <td>...</td>\n",
              "    </tr>\n",
              "    <tr>\n",
              "      <th>395</th>\n",
              "      <td>/content/deep_fake/train_sample_videos/etejaap...</td>\n",
              "      <td>1</td>\n",
              "    </tr>\n",
              "    <tr>\n",
              "      <th>396</th>\n",
              "      <td>/content/deep_fake/train_sample_videos/etmcrua...</td>\n",
              "      <td>1</td>\n",
              "    </tr>\n",
              "    <tr>\n",
              "      <th>397</th>\n",
              "      <td>/content/deep_fake/train_sample_videos/etohcvn...</td>\n",
              "      <td>1</td>\n",
              "    </tr>\n",
              "    <tr>\n",
              "      <th>398</th>\n",
              "      <td>/content/deep_fake/train_sample_videos/eudeqjh...</td>\n",
              "      <td>0</td>\n",
              "    </tr>\n",
              "    <tr>\n",
              "      <th>399</th>\n",
              "      <td>/content/deep_fake/train_sample_videos/eukvucd...</td>\n",
              "      <td>1</td>\n",
              "    </tr>\n",
              "  </tbody>\n",
              "</table>\n",
              "<p>400 rows × 2 columns</p>\n",
              "</div>\n",
              "    <div class=\"colab-df-buttons\">\n",
              "\n",
              "  <div class=\"colab-df-container\">\n",
              "    <button class=\"colab-df-convert\" onclick=\"convertToInteractive('df-894ba598-fe12-408f-8571-6a3995c63315')\"\n",
              "            title=\"Convert this dataframe to an interactive table.\"\n",
              "            style=\"display:none;\">\n",
              "\n",
              "  <svg xmlns=\"http://www.w3.org/2000/svg\" height=\"24px\" viewBox=\"0 -960 960 960\">\n",
              "    <path d=\"M120-120v-720h720v720H120Zm60-500h600v-160H180v160Zm220 220h160v-160H400v160Zm0 220h160v-160H400v160ZM180-400h160v-160H180v160Zm440 0h160v-160H620v160ZM180-180h160v-160H180v160Zm440 0h160v-160H620v160Z\"/>\n",
              "  </svg>\n",
              "    </button>\n",
              "\n",
              "  <style>\n",
              "    .colab-df-container {\n",
              "      display:flex;\n",
              "      gap: 12px;\n",
              "    }\n",
              "\n",
              "    .colab-df-convert {\n",
              "      background-color: #E8F0FE;\n",
              "      border: none;\n",
              "      border-radius: 50%;\n",
              "      cursor: pointer;\n",
              "      display: none;\n",
              "      fill: #1967D2;\n",
              "      height: 32px;\n",
              "      padding: 0 0 0 0;\n",
              "      width: 32px;\n",
              "    }\n",
              "\n",
              "    .colab-df-convert:hover {\n",
              "      background-color: #E2EBFA;\n",
              "      box-shadow: 0px 1px 2px rgba(60, 64, 67, 0.3), 0px 1px 3px 1px rgba(60, 64, 67, 0.15);\n",
              "      fill: #174EA6;\n",
              "    }\n",
              "\n",
              "    .colab-df-buttons div {\n",
              "      margin-bottom: 4px;\n",
              "    }\n",
              "\n",
              "    [theme=dark] .colab-df-convert {\n",
              "      background-color: #3B4455;\n",
              "      fill: #D2E3FC;\n",
              "    }\n",
              "\n",
              "    [theme=dark] .colab-df-convert:hover {\n",
              "      background-color: #434B5C;\n",
              "      box-shadow: 0px 1px 3px 1px rgba(0, 0, 0, 0.15);\n",
              "      filter: drop-shadow(0px 1px 2px rgba(0, 0, 0, 0.3));\n",
              "      fill: #FFFFFF;\n",
              "    }\n",
              "  </style>\n",
              "\n",
              "    <script>\n",
              "      const buttonEl =\n",
              "        document.querySelector('#df-894ba598-fe12-408f-8571-6a3995c63315 button.colab-df-convert');\n",
              "      buttonEl.style.display =\n",
              "        google.colab.kernel.accessAllowed ? 'block' : 'none';\n",
              "\n",
              "      async function convertToInteractive(key) {\n",
              "        const element = document.querySelector('#df-894ba598-fe12-408f-8571-6a3995c63315');\n",
              "        const dataTable =\n",
              "          await google.colab.kernel.invokeFunction('convertToInteractive',\n",
              "                                                    [key], {});\n",
              "        if (!dataTable) return;\n",
              "\n",
              "        const docLinkHtml = 'Like what you see? Visit the ' +\n",
              "          '<a target=\"_blank\" href=https://colab.research.google.com/notebooks/data_table.ipynb>data table notebook</a>'\n",
              "          + ' to learn more about interactive tables.';\n",
              "        element.innerHTML = '';\n",
              "        dataTable['output_type'] = 'display_data';\n",
              "        await google.colab.output.renderOutput(dataTable, element);\n",
              "        const docLink = document.createElement('div');\n",
              "        docLink.innerHTML = docLinkHtml;\n",
              "        element.appendChild(docLink);\n",
              "      }\n",
              "    </script>\n",
              "  </div>\n",
              "\n",
              "\n",
              "<div id=\"df-5d29c9f2-1682-4b2f-8f6f-d150fd71038a\">\n",
              "  <button class=\"colab-df-quickchart\" onclick=\"quickchart('df-5d29c9f2-1682-4b2f-8f6f-d150fd71038a')\"\n",
              "            title=\"Suggest charts\"\n",
              "            style=\"display:none;\">\n",
              "\n",
              "<svg xmlns=\"http://www.w3.org/2000/svg\" height=\"24px\"viewBox=\"0 0 24 24\"\n",
              "     width=\"24px\">\n",
              "    <g>\n",
              "        <path d=\"M19 3H5c-1.1 0-2 .9-2 2v14c0 1.1.9 2 2 2h14c1.1 0 2-.9 2-2V5c0-1.1-.9-2-2-2zM9 17H7v-7h2v7zm4 0h-2V7h2v10zm4 0h-2v-4h2v4z\"/>\n",
              "    </g>\n",
              "</svg>\n",
              "  </button>\n",
              "\n",
              "<style>\n",
              "  .colab-df-quickchart {\n",
              "      --bg-color: #E8F0FE;\n",
              "      --fill-color: #1967D2;\n",
              "      --hover-bg-color: #E2EBFA;\n",
              "      --hover-fill-color: #174EA6;\n",
              "      --disabled-fill-color: #AAA;\n",
              "      --disabled-bg-color: #DDD;\n",
              "  }\n",
              "\n",
              "  [theme=dark] .colab-df-quickchart {\n",
              "      --bg-color: #3B4455;\n",
              "      --fill-color: #D2E3FC;\n",
              "      --hover-bg-color: #434B5C;\n",
              "      --hover-fill-color: #FFFFFF;\n",
              "      --disabled-bg-color: #3B4455;\n",
              "      --disabled-fill-color: #666;\n",
              "  }\n",
              "\n",
              "  .colab-df-quickchart {\n",
              "    background-color: var(--bg-color);\n",
              "    border: none;\n",
              "    border-radius: 50%;\n",
              "    cursor: pointer;\n",
              "    display: none;\n",
              "    fill: var(--fill-color);\n",
              "    height: 32px;\n",
              "    padding: 0;\n",
              "    width: 32px;\n",
              "  }\n",
              "\n",
              "  .colab-df-quickchart:hover {\n",
              "    background-color: var(--hover-bg-color);\n",
              "    box-shadow: 0 1px 2px rgba(60, 64, 67, 0.3), 0 1px 3px 1px rgba(60, 64, 67, 0.15);\n",
              "    fill: var(--button-hover-fill-color);\n",
              "  }\n",
              "\n",
              "  .colab-df-quickchart-complete:disabled,\n",
              "  .colab-df-quickchart-complete:disabled:hover {\n",
              "    background-color: var(--disabled-bg-color);\n",
              "    fill: var(--disabled-fill-color);\n",
              "    box-shadow: none;\n",
              "  }\n",
              "\n",
              "  .colab-df-spinner {\n",
              "    border: 2px solid var(--fill-color);\n",
              "    border-color: transparent;\n",
              "    border-bottom-color: var(--fill-color);\n",
              "    animation:\n",
              "      spin 1s steps(1) infinite;\n",
              "  }\n",
              "\n",
              "  @keyframes spin {\n",
              "    0% {\n",
              "      border-color: transparent;\n",
              "      border-bottom-color: var(--fill-color);\n",
              "      border-left-color: var(--fill-color);\n",
              "    }\n",
              "    20% {\n",
              "      border-color: transparent;\n",
              "      border-left-color: var(--fill-color);\n",
              "      border-top-color: var(--fill-color);\n",
              "    }\n",
              "    30% {\n",
              "      border-color: transparent;\n",
              "      border-left-color: var(--fill-color);\n",
              "      border-top-color: var(--fill-color);\n",
              "      border-right-color: var(--fill-color);\n",
              "    }\n",
              "    40% {\n",
              "      border-color: transparent;\n",
              "      border-right-color: var(--fill-color);\n",
              "      border-top-color: var(--fill-color);\n",
              "    }\n",
              "    60% {\n",
              "      border-color: transparent;\n",
              "      border-right-color: var(--fill-color);\n",
              "    }\n",
              "    80% {\n",
              "      border-color: transparent;\n",
              "      border-right-color: var(--fill-color);\n",
              "      border-bottom-color: var(--fill-color);\n",
              "    }\n",
              "    90% {\n",
              "      border-color: transparent;\n",
              "      border-bottom-color: var(--fill-color);\n",
              "    }\n",
              "  }\n",
              "</style>\n",
              "\n",
              "  <script>\n",
              "    async function quickchart(key) {\n",
              "      const quickchartButtonEl =\n",
              "        document.querySelector('#' + key + ' button');\n",
              "      quickchartButtonEl.disabled = true;  // To prevent multiple clicks.\n",
              "      quickchartButtonEl.classList.add('colab-df-spinner');\n",
              "      try {\n",
              "        const charts = await google.colab.kernel.invokeFunction(\n",
              "            'suggestCharts', [key], {});\n",
              "      } catch (error) {\n",
              "        console.error('Error during call to suggestCharts:', error);\n",
              "      }\n",
              "      quickchartButtonEl.classList.remove('colab-df-spinner');\n",
              "      quickchartButtonEl.classList.add('colab-df-quickchart-complete');\n",
              "    }\n",
              "    (() => {\n",
              "      let quickchartButtonEl =\n",
              "        document.querySelector('#df-5d29c9f2-1682-4b2f-8f6f-d150fd71038a button');\n",
              "      quickchartButtonEl.style.display =\n",
              "        google.colab.kernel.accessAllowed ? 'block' : 'none';\n",
              "    })();\n",
              "  </script>\n",
              "</div>\n",
              "\n",
              "  <div id=\"id_08179e71-c68c-4195-a515-71cf206b9250\">\n",
              "    <style>\n",
              "      .colab-df-generate {\n",
              "        background-color: #E8F0FE;\n",
              "        border: none;\n",
              "        border-radius: 50%;\n",
              "        cursor: pointer;\n",
              "        display: none;\n",
              "        fill: #1967D2;\n",
              "        height: 32px;\n",
              "        padding: 0 0 0 0;\n",
              "        width: 32px;\n",
              "      }\n",
              "\n",
              "      .colab-df-generate:hover {\n",
              "        background-color: #E2EBFA;\n",
              "        box-shadow: 0px 1px 2px rgba(60, 64, 67, 0.3), 0px 1px 3px 1px rgba(60, 64, 67, 0.15);\n",
              "        fill: #174EA6;\n",
              "      }\n",
              "\n",
              "      [theme=dark] .colab-df-generate {\n",
              "        background-color: #3B4455;\n",
              "        fill: #D2E3FC;\n",
              "      }\n",
              "\n",
              "      [theme=dark] .colab-df-generate:hover {\n",
              "        background-color: #434B5C;\n",
              "        box-shadow: 0px 1px 3px 1px rgba(0, 0, 0, 0.15);\n",
              "        filter: drop-shadow(0px 1px 2px rgba(0, 0, 0, 0.3));\n",
              "        fill: #FFFFFF;\n",
              "      }\n",
              "    </style>\n",
              "    <button class=\"colab-df-generate\" onclick=\"generateWithVariable('data')\"\n",
              "            title=\"Generate code using this dataframe.\"\n",
              "            style=\"display:none;\">\n",
              "\n",
              "  <svg xmlns=\"http://www.w3.org/2000/svg\" height=\"24px\"viewBox=\"0 0 24 24\"\n",
              "       width=\"24px\">\n",
              "    <path d=\"M7,19H8.4L18.45,9,17,7.55,7,17.6ZM5,21V16.75L18.45,3.32a2,2,0,0,1,2.83,0l1.4,1.43a1.91,1.91,0,0,1,.58,1.4,1.91,1.91,0,0,1-.58,1.4L9.25,21ZM18.45,9,17,7.55Zm-12,3A5.31,5.31,0,0,0,4.9,8.1,5.31,5.31,0,0,0,1,6.5,5.31,5.31,0,0,0,4.9,4.9,5.31,5.31,0,0,0,6.5,1,5.31,5.31,0,0,0,8.1,4.9,5.31,5.31,0,0,0,12,6.5,5.46,5.46,0,0,0,6.5,12Z\"/>\n",
              "  </svg>\n",
              "    </button>\n",
              "    <script>\n",
              "      (() => {\n",
              "      const buttonEl =\n",
              "        document.querySelector('#id_08179e71-c68c-4195-a515-71cf206b9250 button.colab-df-generate');\n",
              "      buttonEl.style.display =\n",
              "        google.colab.kernel.accessAllowed ? 'block' : 'none';\n",
              "\n",
              "      buttonEl.onclick = () => {\n",
              "        google.colab.notebook.generateWithVariable('data');\n",
              "      }\n",
              "      })();\n",
              "    </script>\n",
              "  </div>\n",
              "\n",
              "    </div>\n",
              "  </div>\n"
            ],
            "application/vnd.google.colaboratory.intrinsic+json": {
              "type": "dataframe",
              "variable_name": "data",
              "summary": "{\n  \"name\": \"data\",\n  \"rows\": 400,\n  \"fields\": [\n    {\n      \"column\": \"filename\",\n      \"properties\": {\n        \"dtype\": \"string\",\n        \"num_unique_values\": 400,\n        \"samples\": [\n          \"/content/deep_fake/train_sample_videos/cmbzllswnl.mp4\",\n          \"/content/deep_fake/train_sample_videos/diuzrpqjli.mp4\",\n          \"/content/deep_fake/train_sample_videos/akzbnazxtz.mp4\"\n        ],\n        \"semantic_type\": \"\",\n        \"description\": \"\"\n      }\n    },\n    {\n      \"column\": \"label\",\n      \"properties\": {\n        \"dtype\": \"number\",\n        \"std\": 0,\n        \"min\": 0,\n        \"max\": 1,\n        \"num_unique_values\": 2,\n        \"samples\": [\n          0,\n          1\n        ],\n        \"semantic_type\": \"\",\n        \"description\": \"\"\n      }\n    }\n  ]\n}"
            }
          },
          "metadata": {},
          "execution_count": 15
        }
      ]
    },
    {
      "cell_type": "code",
      "source": [
        "def preprocess_frame(frame):\n",
        "  resized_frame = cv2.resize(frame, (224, 224))\n",
        "  normalized_frame = resized_frame.astype('float32') / 255.0\n",
        "  return normalized_frame"
      ],
      "metadata": {
        "id": "ZRKJlNYJgOmv"
      },
      "execution_count": null,
      "outputs": []
    },
    {
      "cell_type": "code",
      "source": [
        "import cv2\n",
        "import os\n",
        "\n",
        "def extract_preprocess_frames(video_path, label, save_dir):\n",
        "  \"\"\"Extracts, preprocesses frames from a video, saves them, and returns paths with labels.\n",
        "\n",
        "  Args:\n",
        "      video_path (str): Path to the video file.\n",
        "      label (str): Label for the video (e.g., \"real\", \"deepfake\").\n",
        "      save_dir (str): Directory to save the extracted frames.\n",
        "\n",
        "  Returns:\n",
        "      list: List of tuples containing frame paths and their corresponding labels.\n",
        "  \"\"\"\n",
        "\n",
        "  cap = cv2.VideoCapture(video_path)\n",
        "  frames_count = int(cap.get(cv2.CAP_PROP_FRAME_COUNT))\n",
        "  processed_frames = []\n",
        "  frame_index = 0\n",
        "\n",
        "\n",
        "  if not os.path.exists(save_dir):\n",
        "    os.makedirs(save_dir)\n",
        "\n",
        "  while (frame_index < frames_count):\n",
        "    ret, frame = cap.read()\n",
        "    if ret:\n",
        "      processed_frame = preprocess_frame(frame)\n",
        "\n",
        "\n",
        "      filename = f\"{os.path.basename(video_path)}_{label}_{frame_index}.jpg\"\n",
        "      save_path = os.path.join(save_dir, filename)\n",
        "\n",
        "      cv2.imwrite(save_path, processed_frame)\n",
        "      processed_frames.append((save_path, label))\n",
        "      frame_index += 3\n",
        "    else:\n",
        "      break\n",
        "  cap.release()\n",
        "\n",
        "  return processed_frames"
      ],
      "metadata": {
        "id": "Txus9NTPnIot"
      },
      "execution_count": null,
      "outputs": []
    },
    {
      "cell_type": "code",
      "source": [
        "def process_video_data(video_data_df, save_dir):\n",
        "  \"\"\"Processes video data in a DataFrame, extracts frames, and creates a new DataFrame.\n",
        "\n",
        "  Args:\n",
        "      video_data_df (pandas.DataFrame): DataFrame containing video information.\n",
        "      save_dir (str): Directory to save the extracted frames.\n",
        "\n",
        "  Returns:\n",
        "      pandas.DataFrame: New DataFrame with columns for frame paths and labels.\n",
        "  \"\"\"\n",
        "\n",
        "  all_frames = []\n",
        "  for index, row in video_data_df.iterrows():\n",
        "    video_path = row[\"filename\"]\n",
        "    label = row[\"label\"]\n",
        "    processed_frames = extract_preprocess_frames(video_path, label, save_dir)\n",
        "    all_frames.extend(processed_frames)\n",
        "\n",
        "  new_df = pd.DataFrame(all_frames, columns=[\"frame_path\", \"label\"])\n",
        "  return new_df"
      ],
      "metadata": {
        "id": "kIm9K9BCnwfX"
      },
      "execution_count": null,
      "outputs": []
    },
    {
      "cell_type": "code",
      "source": [
        "!mkdir extracted_frames"
      ],
      "metadata": {
        "id": "QX5yVj4En1gD"
      },
      "execution_count": null,
      "outputs": []
    },
    {
      "cell_type": "code",
      "source": [
        "save_dir = \"/content/extracted_frames\"\n",
        "all_frames_df = process_video_data(data, save_dir)"
      ],
      "metadata": {
        "id": "qUepfFlmpmFW"
      },
      "execution_count": null,
      "outputs": []
    },
    {
      "cell_type": "code",
      "source": [
        "all_frames_df"
      ],
      "metadata": {
        "colab": {
          "base_uri": "https://localhost:8080/",
          "height": 423
        },
        "id": "Y9YkdCM_UmXV",
        "outputId": "7338de45-2d93-470b-e8a0-de416d523fc1"
      },
      "execution_count": null,
      "outputs": [
        {
          "output_type": "execute_result",
          "data": {
            "text/plain": [
              "                                              frame_path  label\n",
              "0       /content/extracted_frames/aagfhgtpmv.mp4_1_0.jpg      1\n",
              "1       /content/extracted_frames/aagfhgtpmv.mp4_1_3.jpg      1\n",
              "2       /content/extracted_frames/aagfhgtpmv.mp4_1_6.jpg      1\n",
              "3       /content/extracted_frames/aagfhgtpmv.mp4_1_9.jpg      1\n",
              "4      /content/extracted_frames/aagfhgtpmv.mp4_1_12.jpg      1\n",
              "...                                                  ...    ...\n",
              "39995  /content/extracted_frames/eukvucdetx.mp4_1_285...      1\n",
              "39996  /content/extracted_frames/eukvucdetx.mp4_1_288...      1\n",
              "39997  /content/extracted_frames/eukvucdetx.mp4_1_291...      1\n",
              "39998  /content/extracted_frames/eukvucdetx.mp4_1_294...      1\n",
              "39999  /content/extracted_frames/eukvucdetx.mp4_1_297...      1\n",
              "\n",
              "[40000 rows x 2 columns]"
            ],
            "text/html": [
              "\n",
              "  <div id=\"df-6be50e7c-f888-4d16-9fde-e18d09b0751b\" class=\"colab-df-container\">\n",
              "    <div>\n",
              "<style scoped>\n",
              "    .dataframe tbody tr th:only-of-type {\n",
              "        vertical-align: middle;\n",
              "    }\n",
              "\n",
              "    .dataframe tbody tr th {\n",
              "        vertical-align: top;\n",
              "    }\n",
              "\n",
              "    .dataframe thead th {\n",
              "        text-align: right;\n",
              "    }\n",
              "</style>\n",
              "<table border=\"1\" class=\"dataframe\">\n",
              "  <thead>\n",
              "    <tr style=\"text-align: right;\">\n",
              "      <th></th>\n",
              "      <th>frame_path</th>\n",
              "      <th>label</th>\n",
              "    </tr>\n",
              "  </thead>\n",
              "  <tbody>\n",
              "    <tr>\n",
              "      <th>0</th>\n",
              "      <td>/content/extracted_frames/aagfhgtpmv.mp4_1_0.jpg</td>\n",
              "      <td>1</td>\n",
              "    </tr>\n",
              "    <tr>\n",
              "      <th>1</th>\n",
              "      <td>/content/extracted_frames/aagfhgtpmv.mp4_1_3.jpg</td>\n",
              "      <td>1</td>\n",
              "    </tr>\n",
              "    <tr>\n",
              "      <th>2</th>\n",
              "      <td>/content/extracted_frames/aagfhgtpmv.mp4_1_6.jpg</td>\n",
              "      <td>1</td>\n",
              "    </tr>\n",
              "    <tr>\n",
              "      <th>3</th>\n",
              "      <td>/content/extracted_frames/aagfhgtpmv.mp4_1_9.jpg</td>\n",
              "      <td>1</td>\n",
              "    </tr>\n",
              "    <tr>\n",
              "      <th>4</th>\n",
              "      <td>/content/extracted_frames/aagfhgtpmv.mp4_1_12.jpg</td>\n",
              "      <td>1</td>\n",
              "    </tr>\n",
              "    <tr>\n",
              "      <th>...</th>\n",
              "      <td>...</td>\n",
              "      <td>...</td>\n",
              "    </tr>\n",
              "    <tr>\n",
              "      <th>39995</th>\n",
              "      <td>/content/extracted_frames/eukvucdetx.mp4_1_285...</td>\n",
              "      <td>1</td>\n",
              "    </tr>\n",
              "    <tr>\n",
              "      <th>39996</th>\n",
              "      <td>/content/extracted_frames/eukvucdetx.mp4_1_288...</td>\n",
              "      <td>1</td>\n",
              "    </tr>\n",
              "    <tr>\n",
              "      <th>39997</th>\n",
              "      <td>/content/extracted_frames/eukvucdetx.mp4_1_291...</td>\n",
              "      <td>1</td>\n",
              "    </tr>\n",
              "    <tr>\n",
              "      <th>39998</th>\n",
              "      <td>/content/extracted_frames/eukvucdetx.mp4_1_294...</td>\n",
              "      <td>1</td>\n",
              "    </tr>\n",
              "    <tr>\n",
              "      <th>39999</th>\n",
              "      <td>/content/extracted_frames/eukvucdetx.mp4_1_297...</td>\n",
              "      <td>1</td>\n",
              "    </tr>\n",
              "  </tbody>\n",
              "</table>\n",
              "<p>40000 rows × 2 columns</p>\n",
              "</div>\n",
              "    <div class=\"colab-df-buttons\">\n",
              "\n",
              "  <div class=\"colab-df-container\">\n",
              "    <button class=\"colab-df-convert\" onclick=\"convertToInteractive('df-6be50e7c-f888-4d16-9fde-e18d09b0751b')\"\n",
              "            title=\"Convert this dataframe to an interactive table.\"\n",
              "            style=\"display:none;\">\n",
              "\n",
              "  <svg xmlns=\"http://www.w3.org/2000/svg\" height=\"24px\" viewBox=\"0 -960 960 960\">\n",
              "    <path d=\"M120-120v-720h720v720H120Zm60-500h600v-160H180v160Zm220 220h160v-160H400v160Zm0 220h160v-160H400v160ZM180-400h160v-160H180v160Zm440 0h160v-160H620v160ZM180-180h160v-160H180v160Zm440 0h160v-160H620v160Z\"/>\n",
              "  </svg>\n",
              "    </button>\n",
              "\n",
              "  <style>\n",
              "    .colab-df-container {\n",
              "      display:flex;\n",
              "      gap: 12px;\n",
              "    }\n",
              "\n",
              "    .colab-df-convert {\n",
              "      background-color: #E8F0FE;\n",
              "      border: none;\n",
              "      border-radius: 50%;\n",
              "      cursor: pointer;\n",
              "      display: none;\n",
              "      fill: #1967D2;\n",
              "      height: 32px;\n",
              "      padding: 0 0 0 0;\n",
              "      width: 32px;\n",
              "    }\n",
              "\n",
              "    .colab-df-convert:hover {\n",
              "      background-color: #E2EBFA;\n",
              "      box-shadow: 0px 1px 2px rgba(60, 64, 67, 0.3), 0px 1px 3px 1px rgba(60, 64, 67, 0.15);\n",
              "      fill: #174EA6;\n",
              "    }\n",
              "\n",
              "    .colab-df-buttons div {\n",
              "      margin-bottom: 4px;\n",
              "    }\n",
              "\n",
              "    [theme=dark] .colab-df-convert {\n",
              "      background-color: #3B4455;\n",
              "      fill: #D2E3FC;\n",
              "    }\n",
              "\n",
              "    [theme=dark] .colab-df-convert:hover {\n",
              "      background-color: #434B5C;\n",
              "      box-shadow: 0px 1px 3px 1px rgba(0, 0, 0, 0.15);\n",
              "      filter: drop-shadow(0px 1px 2px rgba(0, 0, 0, 0.3));\n",
              "      fill: #FFFFFF;\n",
              "    }\n",
              "  </style>\n",
              "\n",
              "    <script>\n",
              "      const buttonEl =\n",
              "        document.querySelector('#df-6be50e7c-f888-4d16-9fde-e18d09b0751b button.colab-df-convert');\n",
              "      buttonEl.style.display =\n",
              "        google.colab.kernel.accessAllowed ? 'block' : 'none';\n",
              "\n",
              "      async function convertToInteractive(key) {\n",
              "        const element = document.querySelector('#df-6be50e7c-f888-4d16-9fde-e18d09b0751b');\n",
              "        const dataTable =\n",
              "          await google.colab.kernel.invokeFunction('convertToInteractive',\n",
              "                                                    [key], {});\n",
              "        if (!dataTable) return;\n",
              "\n",
              "        const docLinkHtml = 'Like what you see? Visit the ' +\n",
              "          '<a target=\"_blank\" href=https://colab.research.google.com/notebooks/data_table.ipynb>data table notebook</a>'\n",
              "          + ' to learn more about interactive tables.';\n",
              "        element.innerHTML = '';\n",
              "        dataTable['output_type'] = 'display_data';\n",
              "        await google.colab.output.renderOutput(dataTable, element);\n",
              "        const docLink = document.createElement('div');\n",
              "        docLink.innerHTML = docLinkHtml;\n",
              "        element.appendChild(docLink);\n",
              "      }\n",
              "    </script>\n",
              "  </div>\n",
              "\n",
              "\n",
              "<div id=\"df-8e1cc114-f308-4fd7-baf0-511d20838ce7\">\n",
              "  <button class=\"colab-df-quickchart\" onclick=\"quickchart('df-8e1cc114-f308-4fd7-baf0-511d20838ce7')\"\n",
              "            title=\"Suggest charts\"\n",
              "            style=\"display:none;\">\n",
              "\n",
              "<svg xmlns=\"http://www.w3.org/2000/svg\" height=\"24px\"viewBox=\"0 0 24 24\"\n",
              "     width=\"24px\">\n",
              "    <g>\n",
              "        <path d=\"M19 3H5c-1.1 0-2 .9-2 2v14c0 1.1.9 2 2 2h14c1.1 0 2-.9 2-2V5c0-1.1-.9-2-2-2zM9 17H7v-7h2v7zm4 0h-2V7h2v10zm4 0h-2v-4h2v4z\"/>\n",
              "    </g>\n",
              "</svg>\n",
              "  </button>\n",
              "\n",
              "<style>\n",
              "  .colab-df-quickchart {\n",
              "      --bg-color: #E8F0FE;\n",
              "      --fill-color: #1967D2;\n",
              "      --hover-bg-color: #E2EBFA;\n",
              "      --hover-fill-color: #174EA6;\n",
              "      --disabled-fill-color: #AAA;\n",
              "      --disabled-bg-color: #DDD;\n",
              "  }\n",
              "\n",
              "  [theme=dark] .colab-df-quickchart {\n",
              "      --bg-color: #3B4455;\n",
              "      --fill-color: #D2E3FC;\n",
              "      --hover-bg-color: #434B5C;\n",
              "      --hover-fill-color: #FFFFFF;\n",
              "      --disabled-bg-color: #3B4455;\n",
              "      --disabled-fill-color: #666;\n",
              "  }\n",
              "\n",
              "  .colab-df-quickchart {\n",
              "    background-color: var(--bg-color);\n",
              "    border: none;\n",
              "    border-radius: 50%;\n",
              "    cursor: pointer;\n",
              "    display: none;\n",
              "    fill: var(--fill-color);\n",
              "    height: 32px;\n",
              "    padding: 0;\n",
              "    width: 32px;\n",
              "  }\n",
              "\n",
              "  .colab-df-quickchart:hover {\n",
              "    background-color: var(--hover-bg-color);\n",
              "    box-shadow: 0 1px 2px rgba(60, 64, 67, 0.3), 0 1px 3px 1px rgba(60, 64, 67, 0.15);\n",
              "    fill: var(--button-hover-fill-color);\n",
              "  }\n",
              "\n",
              "  .colab-df-quickchart-complete:disabled,\n",
              "  .colab-df-quickchart-complete:disabled:hover {\n",
              "    background-color: var(--disabled-bg-color);\n",
              "    fill: var(--disabled-fill-color);\n",
              "    box-shadow: none;\n",
              "  }\n",
              "\n",
              "  .colab-df-spinner {\n",
              "    border: 2px solid var(--fill-color);\n",
              "    border-color: transparent;\n",
              "    border-bottom-color: var(--fill-color);\n",
              "    animation:\n",
              "      spin 1s steps(1) infinite;\n",
              "  }\n",
              "\n",
              "  @keyframes spin {\n",
              "    0% {\n",
              "      border-color: transparent;\n",
              "      border-bottom-color: var(--fill-color);\n",
              "      border-left-color: var(--fill-color);\n",
              "    }\n",
              "    20% {\n",
              "      border-color: transparent;\n",
              "      border-left-color: var(--fill-color);\n",
              "      border-top-color: var(--fill-color);\n",
              "    }\n",
              "    30% {\n",
              "      border-color: transparent;\n",
              "      border-left-color: var(--fill-color);\n",
              "      border-top-color: var(--fill-color);\n",
              "      border-right-color: var(--fill-color);\n",
              "    }\n",
              "    40% {\n",
              "      border-color: transparent;\n",
              "      border-right-color: var(--fill-color);\n",
              "      border-top-color: var(--fill-color);\n",
              "    }\n",
              "    60% {\n",
              "      border-color: transparent;\n",
              "      border-right-color: var(--fill-color);\n",
              "    }\n",
              "    80% {\n",
              "      border-color: transparent;\n",
              "      border-right-color: var(--fill-color);\n",
              "      border-bottom-color: var(--fill-color);\n",
              "    }\n",
              "    90% {\n",
              "      border-color: transparent;\n",
              "      border-bottom-color: var(--fill-color);\n",
              "    }\n",
              "  }\n",
              "</style>\n",
              "\n",
              "  <script>\n",
              "    async function quickchart(key) {\n",
              "      const quickchartButtonEl =\n",
              "        document.querySelector('#' + key + ' button');\n",
              "      quickchartButtonEl.disabled = true;  // To prevent multiple clicks.\n",
              "      quickchartButtonEl.classList.add('colab-df-spinner');\n",
              "      try {\n",
              "        const charts = await google.colab.kernel.invokeFunction(\n",
              "            'suggestCharts', [key], {});\n",
              "      } catch (error) {\n",
              "        console.error('Error during call to suggestCharts:', error);\n",
              "      }\n",
              "      quickchartButtonEl.classList.remove('colab-df-spinner');\n",
              "      quickchartButtonEl.classList.add('colab-df-quickchart-complete');\n",
              "    }\n",
              "    (() => {\n",
              "      let quickchartButtonEl =\n",
              "        document.querySelector('#df-8e1cc114-f308-4fd7-baf0-511d20838ce7 button');\n",
              "      quickchartButtonEl.style.display =\n",
              "        google.colab.kernel.accessAllowed ? 'block' : 'none';\n",
              "    })();\n",
              "  </script>\n",
              "</div>\n",
              "\n",
              "  <div id=\"id_52d919c7-884f-416c-ad03-585552da492b\">\n",
              "    <style>\n",
              "      .colab-df-generate {\n",
              "        background-color: #E8F0FE;\n",
              "        border: none;\n",
              "        border-radius: 50%;\n",
              "        cursor: pointer;\n",
              "        display: none;\n",
              "        fill: #1967D2;\n",
              "        height: 32px;\n",
              "        padding: 0 0 0 0;\n",
              "        width: 32px;\n",
              "      }\n",
              "\n",
              "      .colab-df-generate:hover {\n",
              "        background-color: #E2EBFA;\n",
              "        box-shadow: 0px 1px 2px rgba(60, 64, 67, 0.3), 0px 1px 3px 1px rgba(60, 64, 67, 0.15);\n",
              "        fill: #174EA6;\n",
              "      }\n",
              "\n",
              "      [theme=dark] .colab-df-generate {\n",
              "        background-color: #3B4455;\n",
              "        fill: #D2E3FC;\n",
              "      }\n",
              "\n",
              "      [theme=dark] .colab-df-generate:hover {\n",
              "        background-color: #434B5C;\n",
              "        box-shadow: 0px 1px 3px 1px rgba(0, 0, 0, 0.15);\n",
              "        filter: drop-shadow(0px 1px 2px rgba(0, 0, 0, 0.3));\n",
              "        fill: #FFFFFF;\n",
              "      }\n",
              "    </style>\n",
              "    <button class=\"colab-df-generate\" onclick=\"generateWithVariable('all_frames_df')\"\n",
              "            title=\"Generate code using this dataframe.\"\n",
              "            style=\"display:none;\">\n",
              "\n",
              "  <svg xmlns=\"http://www.w3.org/2000/svg\" height=\"24px\"viewBox=\"0 0 24 24\"\n",
              "       width=\"24px\">\n",
              "    <path d=\"M7,19H8.4L18.45,9,17,7.55,7,17.6ZM5,21V16.75L18.45,3.32a2,2,0,0,1,2.83,0l1.4,1.43a1.91,1.91,0,0,1,.58,1.4,1.91,1.91,0,0,1-.58,1.4L9.25,21ZM18.45,9,17,7.55Zm-12,3A5.31,5.31,0,0,0,4.9,8.1,5.31,5.31,0,0,0,1,6.5,5.31,5.31,0,0,0,4.9,4.9,5.31,5.31,0,0,0,6.5,1,5.31,5.31,0,0,0,8.1,4.9,5.31,5.31,0,0,0,12,6.5,5.46,5.46,0,0,0,6.5,12Z\"/>\n",
              "  </svg>\n",
              "    </button>\n",
              "    <script>\n",
              "      (() => {\n",
              "      const buttonEl =\n",
              "        document.querySelector('#id_52d919c7-884f-416c-ad03-585552da492b button.colab-df-generate');\n",
              "      buttonEl.style.display =\n",
              "        google.colab.kernel.accessAllowed ? 'block' : 'none';\n",
              "\n",
              "      buttonEl.onclick = () => {\n",
              "        google.colab.notebook.generateWithVariable('all_frames_df');\n",
              "      }\n",
              "      })();\n",
              "    </script>\n",
              "  </div>\n",
              "\n",
              "    </div>\n",
              "  </div>\n"
            ],
            "application/vnd.google.colaboratory.intrinsic+json": {
              "type": "dataframe",
              "variable_name": "all_frames_df",
              "summary": "{\n  \"name\": \"all_frames_df\",\n  \"rows\": 40000,\n  \"fields\": [\n    {\n      \"column\": \"frame_path\",\n      \"properties\": {\n        \"dtype\": \"string\",\n        \"num_unique_values\": 40000,\n        \"samples\": [\n          \"/content/extracted_frames/dzqwgqewhu.mp4_1_69.jpg\",\n          \"/content/extracted_frames/bvgwelbeof.mp4_1_294.jpg\",\n          \"/content/extracted_frames/dkhlttuvmx.mp4_1_15.jpg\"\n        ],\n        \"semantic_type\": \"\",\n        \"description\": \"\"\n      }\n    },\n    {\n      \"column\": \"label\",\n      \"properties\": {\n        \"dtype\": \"number\",\n        \"std\": 0,\n        \"min\": 0,\n        \"max\": 1,\n        \"num_unique_values\": 2,\n        \"samples\": [\n          0,\n          1\n        ],\n        \"semantic_type\": \"\",\n        \"description\": \"\"\n      }\n    }\n  ]\n}"
            }
          },
          "metadata": {},
          "execution_count": 20
        }
      ]
    },
    {
      "cell_type": "code",
      "source": [
        "all_frames_df.info()"
      ],
      "metadata": {
        "colab": {
          "base_uri": "https://localhost:8080/"
        },
        "id": "d-jDIZqVUpM7",
        "outputId": "8d888cef-da6b-46a7-8ae0-6fddaf1b94c6"
      },
      "execution_count": null,
      "outputs": [
        {
          "output_type": "stream",
          "name": "stdout",
          "text": [
            "<class 'pandas.core.frame.DataFrame'>\n",
            "RangeIndex: 40000 entries, 0 to 39999\n",
            "Data columns (total 2 columns):\n",
            " #   Column      Non-Null Count  Dtype \n",
            "---  ------      --------------  ----- \n",
            " 0   frame_path  40000 non-null  object\n",
            " 1   label       40000 non-null  int64 \n",
            "dtypes: int64(1), object(1)\n",
            "memory usage: 625.1+ KB\n"
          ]
        }
      ]
    },
    {
      "cell_type": "code",
      "source": [
        "all_frames_df['label'].value_counts()"
      ],
      "metadata": {
        "colab": {
          "base_uri": "https://localhost:8080/"
        },
        "id": "HZvfFf06bcx3",
        "outputId": "f43f723f-7fe3-42a2-bd7c-9582c260471d"
      },
      "execution_count": null,
      "outputs": [
        {
          "output_type": "execute_result",
          "data": {
            "text/plain": [
              "label\n",
              "1    32300\n",
              "0     7700\n",
              "Name: count, dtype: int64"
            ]
          },
          "metadata": {},
          "execution_count": 22
        }
      ]
    },
    {
      "cell_type": "code",
      "source": [
        "from sklearn.model_selection import train_test_split\n",
        "\n",
        "train_df , test_df = train_test_split(all_frames_df,test_size=0.3,random_state=42)"
      ],
      "metadata": {
        "id": "EaJE5DsSpU2H"
      },
      "execution_count": null,
      "outputs": []
    },
    {
      "cell_type": "code",
      "source": [
        "print(f\"Train df shape:{train_df.shape}\")\n",
        "print(f\"Test df shape:{test_df.shape}\")"
      ],
      "metadata": {
        "colab": {
          "base_uri": "https://localhost:8080/"
        },
        "id": "c2YN4MM8uojD",
        "outputId": "110a8ff0-f4b3-4e7e-ff80-43905a638502"
      },
      "execution_count": null,
      "outputs": [
        {
          "output_type": "stream",
          "name": "stdout",
          "text": [
            "Train df shape:(28000, 2)\n",
            "Test df shape:(12000, 2)\n"
          ]
        }
      ]
    },
    {
      "cell_type": "code",
      "source": [
        "train_df['label'].value_counts()\n"
      ],
      "metadata": {
        "colab": {
          "base_uri": "https://localhost:8080/"
        },
        "id": "_glaKaiAvG4X",
        "outputId": "ec65d0a1-99e9-4c8e-e239-fbccac2be30f"
      },
      "execution_count": null,
      "outputs": [
        {
          "output_type": "execute_result",
          "data": {
            "text/plain": [
              "label\n",
              "1    22535\n",
              "0     5465\n",
              "Name: count, dtype: int64"
            ]
          },
          "metadata": {},
          "execution_count": 25
        }
      ]
    },
    {
      "cell_type": "code",
      "source": [
        "import cv2\n",
        "from tensorflow.keras.applications import VGG16  # Replace with your chosen pre-trained CNN\n",
        "from tensorflow.keras.layers import Flatten, Dense, LSTM\n",
        "from tensorflow.keras.models import Model\n",
        "from tensorflow.keras.optimizers import Adam\n",
        "from tensorflow.keras.losses import BinaryCrossentropy\n",
        "from tensorflow.keras.preprocessing.image import ImageDataGenerator  # For image loading and augmentatio"
      ],
      "metadata": {
        "id": "KVDVRw-ivQ3w"
      },
      "execution_count": null,
      "outputs": []
    },
    {
      "cell_type": "code",
      "source": [
        "img_height = 224\n",
        "img_width =224"
      ],
      "metadata": {
        "id": "TSb2KPh866bt"
      },
      "execution_count": null,
      "outputs": []
    },
    {
      "cell_type": "code",
      "source": [
        "train_df['label'] = train_df['label'].astype(str)\n",
        "test_df['label'] = test_df['label'].astype(str)"
      ],
      "metadata": {
        "id": "pMeuVepy7xOo"
      },
      "execution_count": null,
      "outputs": []
    },
    {
      "cell_type": "code",
      "source": [
        "\n",
        "def create_data_generator(dataframe, batch_size, target_size=(img_height, img_width)):\n",
        "  \"\"\"\n",
        "  Creates an image data generator from a DataFrame containing image paths and labels.\n",
        "\n",
        "  Args:\n",
        "      dataframe (pandas.DataFrame): The DataFrame containing image paths and labels.\n",
        "      batch_size (int): The number of images to process together in each batch.\n",
        "      target_size (tuple, optional): The desired height and width for resizing images. Defaults to (img_height, img_width).\n",
        "\n",
        "  Returns:\n",
        "      ImageDataGenerator: The created image data generator object.\n",
        "  \"\"\"\n",
        "\n",
        "  # Get image paths and labels from the DataFrame (adjust column names if needed)\n",
        "  image_paths = dataframe[\"frame_path\"].tolist()\n",
        "  labels = dataframe[\"label\"].tolist()\n",
        "\n",
        "  datagen = ImageDataGenerator(rescale=1./255,  # Normalize pixel values\n",
        "                                   shear_range=0.2,\n",
        "                                   zoom_range=0.2,\n",
        "                                   horizontal_flip=True)\n",
        "\n",
        "  # Use flow_from_dataframe to load images and labels from the DataFrame\n",
        "  generator = datagen.flow_from_dataframe(\n",
        "      dataframe=dataframe,\n",
        "      directory=None,\n",
        "      x_col=\"frame_path\",\n",
        "      y_col=\"label\",\n",
        "      target_size=target_size,\n",
        "      batch_size=batch_size,\n",
        "      class_mode='binary'\n",
        "  )\n",
        "\n",
        "  return generator\n",
        "\n",
        "\n"
      ],
      "metadata": {
        "id": "FK0NEUUq6-In"
      },
      "execution_count": null,
      "outputs": []
    },
    {
      "cell_type": "code",
      "source": [
        "batch_size=128\n",
        "train_generator = create_data_generator(train_df, batch_size=batch_size)\n",
        "validation_generator = create_data_generator(test_df, batch_size=batch_size)\n"
      ],
      "metadata": {
        "colab": {
          "base_uri": "https://localhost:8080/"
        },
        "id": "RCdxSmI17CJK",
        "outputId": "db35cb7a-7aa6-45fb-f697-26672d1426b4"
      },
      "execution_count": null,
      "outputs": [
        {
          "output_type": "stream",
          "name": "stdout",
          "text": [
            "Found 28000 validated image filenames belonging to 2 classes.\n",
            "Found 12000 validated image filenames belonging to 2 classes.\n"
          ]
        }
      ]
    },
    {
      "cell_type": "code",
      "source": [
        "\n",
        "# Load pre-trained ResNet model (replace with your specific version)\n",
        "from tensorflow.keras.applications import ResNet50\n",
        "from tensorflow.keras.layers import Input, GlobalAveragePooling2D, Dropout , Conv2D,MaxPooling2D\n",
        "from tensorflow.keras.layers import Bidirectional\n",
        "from tensorflow.keras.layers import Reshape, Flatten\n",
        "\n",
        "\n",
        "\n",
        "base_model = ResNet50(weights=\"imagenet\", include_top=False, input_shape=(img_height, img_width, 3))\n",
        "\n",
        "# Freeze the base model (optional, adjust based on fine-tuning strategy)\n",
        "base_model.trainable = False\n",
        "\n",
        "# Create the new model on top\n",
        "inputs = Input(shape=(img_height, img_width, 3))\n",
        "\n",
        "# No Rescaling layer needed if ImageDataGenerator rescaled to (0, 1)\n",
        "x = base_model(inputs, training=False)\n",
        "x = Conv2D(filters=64, kernel_size=(2, 2), activation='relu')(x)  # Corrected the typo here\n",
        "x = MaxPooling2D(pool_size=(2, 2))(x)\n",
        "x = Conv2D(filters=128, kernel_size=(3, 3), activation='relu')(x)\n",
        "x = GlobalAveragePooling2D()(x)\n",
        "x = Dropout(0.2)(x)\n",
        "x = Flatten()(x)\n",
        "x = Reshape((1, x.shape[-1]))(x)\n",
        "lstm_out = Bidirectional(LSTM(units=128, return_sequences=False))(x)\n",
        "outputs = Dense(1, activation='sigmoid')(lstm_out)\n",
        "\n",
        "model = Model(inputs, outputs)\n",
        "\n",
        "model.summary(show_trainable=True)\n",
        "\n"
      ],
      "metadata": {
        "colab": {
          "base_uri": "https://localhost:8080/"
        },
        "id": "R-urf1L_7WW1",
        "outputId": "bd1ff4cf-fc98-4702-daab-1b6f8bd9c945"
      },
      "execution_count": null,
      "outputs": [
        {
          "output_type": "stream",
          "name": "stdout",
          "text": [
            "Downloading data from https://storage.googleapis.com/tensorflow/keras-applications/resnet/resnet50_weights_tf_dim_ordering_tf_kernels_notop.h5\n",
            "94765736/94765736 [==============================] - 0s 0us/step\n",
            "Model: \"model\"\n",
            "____________________________________________________________________________\n",
            " Layer (type)                Output Shape              Param #   Trainable  \n",
            "============================================================================\n",
            " input_2 (InputLayer)        [(None, 224, 224, 3)]     0         Y          \n",
            "                                                                            \n",
            " resnet50 (Functional)       (None, 7, 7, 2048)        2358771   N          \n",
            "                                                       2                    \n",
            "                                                                            \n",
            " conv2d (Conv2D)             (None, 6, 6, 64)          524352    Y          \n",
            "                                                                            \n",
            " max_pooling2d (MaxPooling2  (None, 3, 3, 64)          0         Y          \n",
            " D)                                                                         \n",
            "                                                                            \n",
            " conv2d_1 (Conv2D)           (None, 1, 1, 128)         73856     Y          \n",
            "                                                                            \n",
            " global_average_pooling2d (  (None, 128)               0         Y          \n",
            " GlobalAveragePooling2D)                                                    \n",
            "                                                                            \n",
            " dropout (Dropout)           (None, 128)               0         Y          \n",
            "                                                                            \n",
            " flatten (Flatten)           (None, 128)               0         Y          \n",
            "                                                                            \n",
            " reshape (Reshape)           (None, 1, 128)            0         Y          \n",
            "                                                                            \n",
            " bidirectional (Bidirection  (None, 256)               263168    Y          \n",
            " al)                                                                        \n",
            "                                                                            \n",
            " dense (Dense)               (None, 1)                 257       Y          \n",
            "                                                                            \n",
            "============================================================================\n",
            "Total params: 24449345 (93.27 MB)\n",
            "Trainable params: 861633 (3.29 MB)\n",
            "Non-trainable params: 23587712 (89.98 MB)\n",
            "____________________________________________________________________________\n"
          ]
        }
      ]
    },
    {
      "cell_type": "code",
      "source": [
        "import tensorflow as tf\n",
        "tf.keras.utils.plot_model(model, to_file='model_architecture.png', show_shapes=True)"
      ],
      "metadata": {
        "colab": {
          "base_uri": "https://localhost:8080/",
          "height": 1000
        },
        "id": "IkAbSrcb8LoH",
        "outputId": "bb9b781c-5087-4e04-a8bc-c890c4e425f7"
      },
      "execution_count": null,
      "outputs": [
        {
          "output_type": "execute_result",
          "data": {
            "image/png": "[encoded data removed]",
            "text/plain": [
              "<IPython.core.display.Image object>"
            ]
          },
          "metadata": {},
          "execution_count": 32
        }
      ]
    },
    {
      "cell_type": "code",
      "source": [
        "model.compile(\n",
        "    optimizer=tf.keras.optimizers.Adam(),\n",
        "    loss=tf.keras.losses.BinaryCrossentropy(from_logits=True),\n",
        "    metrics=['accuracy'],\n",
        ")"
      ],
      "metadata": {
        "id": "8vhnIVqA8Qgm"
      },
      "execution_count": null,
      "outputs": []
    },
    {
      "cell_type": "code",
      "source": [
        "epochs = 5\n",
        "history = model.fit(\n",
        "    train_generator,\n",
        "    steps_per_epoch=train_generator.samples // batch_size,\n",
        "    epochs=epochs,\n",
        "    validation_data=validation_generator)\n",
        "\n"
      ],
      "metadata": {
        "colab": {
          "base_uri": "https://localhost:8080/"
        },
        "id": "g-wVKO468hcy",
        "outputId": "bf833300-8ab7-4277-ca9c-4ed3cf71366f"
      },
      "execution_count": null,
      "outputs": [
        {
          "output_type": "stream",
          "name": "stdout",
          "text": [
            "Epoch 1/5\n"
          ]
        },
        {
          "output_type": "stream",
          "name": "stderr",
          "text": [
            "/usr/local/lib/python3.10/dist-packages/keras/src/backend.py:5818: UserWarning: \"`binary_crossentropy` received `from_logits=True`, but the `output` argument was produced by a Sigmoid activation and thus does not represent logits. Was this intended?\n",
            "  output, from_logits = _get_logits(\n"
          ]
        },
        {
          "output_type": "stream",
          "name": "stdout",
          "text": [
            "218/218 [==============================] - 612s 3s/step - loss: 0.4978 - accuracy: 0.8032 - val_loss: 0.4811 - val_accuracy: 0.8138\n",
            "Epoch 2/5\n",
            "218/218 [==============================] - 583s 3s/step - loss: 0.4954 - accuracy: 0.8048 - val_loss: 0.4816 - val_accuracy: 0.8138\n",
            "Epoch 3/5\n",
            "218/218 [==============================] - 562s 3s/step - loss: 0.4946 - accuracy: 0.8046 - val_loss: 0.4807 - val_accuracy: 0.8138\n",
            "Epoch 4/5\n",
            "218/218 [==============================] - 594s 3s/step - loss: 0.4942 - accuracy: 0.8047 - val_loss: 0.4823 - val_accuracy: 0.8138\n",
            "Epoch 5/5\n",
            "218/218 [==============================] - 567s 3s/step - loss: 0.4945 - accuracy: 0.8046 - val_loss: 0.4822 - val_accuracy: 0.8138\n"
          ]
        }
      ]
    },
    {
      "cell_type": "code",
      "source": [],
      "metadata": {
        "id": "eCUCcDqcHXbD"
      },
      "execution_count": null,
      "outputs": []
    },
    {
      "cell_type": "code",
      "source": [],
      "metadata": {
        "id": "zThKPKfkBaST"
      },
      "execution_count": null,
      "outputs": []
    },
    {
      "cell_type": "code",
      "source": [
        "model.save('my_model.keras')"
      ],
      "metadata": {
        "id": "0GHeKZbi8tS7"
      },
      "execution_count": null,
      "outputs": []
    },
    {
      "cell_type": "code",
      "source": [
        "import tensorflow as tf\n",
        "\n",
        "new_model=tf.keras.models.load_model('my_model.keras')\n",
        "new_model.summary()"
      ],
      "metadata": {
        "colab": {
          "base_uri": "https://localhost:8080/"
        },
        "id": "kv7pUZnSHYD8",
        "outputId": "d8ddeab9-d293-434f-9cc5-885876c8590b"
      },
      "execution_count": null,
      "outputs": [
        {
          "output_type": "stream",
          "name": "stdout",
          "text": [
            "Model: \"model\"\n",
            "_________________________________________________________________\n",
            " Layer (type)                Output Shape              Param #   \n",
            "=================================================================\n",
            " input_2 (InputLayer)        [(None, 224, 224, 3)]     0         \n",
            "                                                                 \n",
            " resnet50 (Functional)       (None, 7, 7, 2048)        23587712  \n",
            "                                                                 \n",
            " conv2d (Conv2D)             (None, 6, 6, 64)          524352    \n",
            "                                                                 \n",
            " max_pooling2d (MaxPooling2  (None, 3, 3, 64)          0         \n",
            " D)                                                              \n",
            "                                                                 \n",
            " conv2d_1 (Conv2D)           (None, 1, 1, 128)         73856     \n",
            "                                                                 \n",
            " global_average_pooling2d (  (None, 128)               0         \n",
            " GlobalAveragePooling2D)                                         \n",
            "                                                                 \n",
            " dropout (Dropout)           (None, 128)               0         \n",
            "                                                                 \n",
            " flatten (Flatten)           (None, 128)               0         \n",
            "                                                                 \n",
            " reshape (Reshape)           (None, 1, 128)            0         \n",
            "                                                                 \n",
            " bidirectional (Bidirection  (None, 256)               263168    \n",
            " al)                                                             \n",
            "                                                                 \n",
            " dense (Dense)               (None, 1)                 257       \n",
            "                                                                 \n",
            "=================================================================\n",
            "Total params: 24449345 (93.27 MB)\n",
            "Trainable params: 861633 (3.29 MB)\n",
            "Non-trainable params: 23587712 (89.98 MB)\n",
            "_________________________________________________________________\n"
          ]
        }
      ]
    },
    {
      "cell_type": "code",
      "source": [
        "loaded_model = tf.keras.models.load_model('my_model.keras')"
      ],
      "metadata": {
        "id": "NelJK7zGqliP"
      },
      "execution_count": null,
      "outputs": []
    },
    {
      "cell_type": "code",
      "source": [
        "import pickle"
      ],
      "metadata": {
        "id": "HI939G_mxANH"
      },
      "execution_count": null,
      "outputs": []
    },
    {
      "cell_type": "code",
      "source": [
        "with open('model_pickle','wb') as f:\n",
        "  pickle.dump(model,f)"
      ],
      "metadata": {
        "id": "eFXPYlqXCMlT"
      },
      "execution_count": null,
      "outputs": []
    },
    {
      "cell_type": "code",
      "source": [
        "with open('model_pickle','rb') as f:\n",
        "  mp=pickle.load(f)"
      ],
      "metadata": {
        "id": "MMT1JKLqCcaw"
      },
      "execution_count": null,
      "outputs": []
    },
    {
      "cell_type": "code",
      "source": [
        "# mp.predict()"
      ],
      "metadata": {
        "id": "v0zyg4j0Cw7g"
      },
      "execution_count": null,
      "outputs": []
    },
    {
      "cell_type": "code",
      "source": [
        "model.summary()"
      ],
      "metadata": {
        "colab": {
          "base_uri": "https://localhost:8080/"
        },
        "id": "uUM_FS5RDgmf",
        "outputId": "7752fe67-0c2d-480a-ab34-2f0c97d96496"
      },
      "execution_count": null,
      "outputs": [
        {
          "output_type": "stream",
          "name": "stdout",
          "text": [
            "Model: \"model\"\n",
            "_________________________________________________________________\n",
            " Layer (type)                Output Shape              Param #   \n",
            "=================================================================\n",
            " input_2 (InputLayer)        [(None, 224, 224, 3)]     0         \n",
            "                                                                 \n",
            " resnet50 (Functional)       (None, 7, 7, 2048)        23587712  \n",
            "                                                                 \n",
            " conv2d (Conv2D)             (None, 6, 6, 64)          524352    \n",
            "                                                                 \n",
            " max_pooling2d (MaxPooling2  (None, 3, 3, 64)          0         \n",
            " D)                                                              \n",
            "                                                                 \n",
            " conv2d_1 (Conv2D)           (None, 1, 1, 128)         73856     \n",
            "                                                                 \n",
            " global_average_pooling2d (  (None, 128)               0         \n",
            " GlobalAveragePooling2D)                                         \n",
            "                                                                 \n",
            " dropout (Dropout)           (None, 128)               0         \n",
            "                                                                 \n",
            " flatten (Flatten)           (None, 128)               0         \n",
            "                                                                 \n",
            " reshape (Reshape)           (None, 1, 128)            0         \n",
            "                                                                 \n",
            " bidirectional (Bidirection  (None, 256)               263168    \n",
            " al)                                                             \n",
            "                                                                 \n",
            " dense (Dense)               (None, 1)                 257       \n",
            "                                                                 \n",
            "=================================================================\n",
            "Total params: 24449345 (93.27 MB)\n",
            "Trainable params: 861633 (3.29 MB)\n",
            "Non-trainable params: 23587712 (89.98 MB)\n",
            "_________________________________________________________________\n"
          ]
        }
      ]
    },
    {
      "cell_type": "markdown",
      "source": [],
      "metadata": {
        "id": "QHNYrnrrDgTS"
      }
    }
  ]
}